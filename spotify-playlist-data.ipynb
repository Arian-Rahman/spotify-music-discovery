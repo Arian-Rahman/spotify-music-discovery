{
 "cells": [
  {
   "cell_type": "markdown",
   "metadata": {},
   "source": [
    "### Imports and Global Variables"
   ]
  },
  {
   "cell_type": "code",
   "execution_count": 1,
   "metadata": {},
   "outputs": [],
   "source": [
    "'''\n",
    "Imports + global variables\n",
    "'''\n",
    "\n",
    "import os\n",
    "import time\n",
    "import spotipy\n",
    "import spotipy.util as util\n",
    "import spotipy.oauth2 as oauth2\n",
    "from spotipy.oauth2 import SpotifyClientCredentials\n",
    "import pandas as pd\n",
    "\n",
    "import config\n",
    "\n",
    "username = config.CLIENT_USERNAME\n",
    "client_id = config.CLIENT_ID\n",
    "client_secret = config.CLIENT_SECRET\n"
   ]
  },
  {
   "cell_type": "markdown",
   "metadata": {},
   "source": [
    "### Logging in to Spotify with our client ID and client secret"
   ]
  },
  {
   "cell_type": "code",
   "execution_count": 2,
   "metadata": {},
   "outputs": [],
   "source": [
    "def login_to_spotify(client_id, client_secret):\n",
    "    '''\n",
    "    This handles logging in to Spotify and returning a Spotipy object\n",
    "    to be used to gather our data\n",
    "    '''\n",
    "\n",
    "    os.environ['SPOTIPY_CLIENT_ID'] = client_id\n",
    "    os.environ['SPOTIPY_CLIENT_SECRET'] = client_secret\n",
    "    os.environ['SPOTIPY_REDIRECT_URI'] = 'http://localhost:8888/callback/'\n",
    "\n",
    "    scope = 'user-library-read playlist-read-private user-top-read'\n",
    "\n",
    "    token = util.prompt_for_user_token(\n",
    "        username,\n",
    "        scope,\n",
    "        client_id=client_id,\n",
    "        client_secret=client_secret,\n",
    "        redirect_uri='http://localhost:8888/callback/',\n",
    "    )\n",
    "    \n",
    "    client_credentials_manager = SpotifyClientCredentials(client_id=client_id, client_secret=client_secret)\n",
    "    spotify = spotipy.Spotify(client_credentials_manager=client_credentials_manager)\n",
    "    \n",
    "    return spotify\n"
   ]
  },
  {
   "cell_type": "markdown",
   "metadata": {},
   "source": [
    "This is where the actual Spotipy object is created and all their playlists are downloaded."
   ]
  },
  {
   "cell_type": "code",
   "execution_count": 3,
   "metadata": {},
   "outputs": [],
   "source": [
    "SPOTIPY_OBJECT = login_to_spotify(client_id, client_secret)\n",
    "playlists = SPOTIPY_OBJECT.user_playlists(username)\n"
   ]
  },
  {
   "cell_type": "markdown",
   "metadata": {},
   "source": [
    "### Getting playlist data"
   ]
  },
  {
   "cell_type": "code",
   "execution_count": 4,
   "metadata": {},
   "outputs": [],
   "source": [
    "def get_playlist_data(playlists, playlist_name):\n",
    "    '''\n",
    "    This function takes in a user's playlists and a playlist name, \n",
    "    and downloads all song information for the given playlist name.\n",
    "    '''\n",
    "\n",
    "    for playlist in playlists['items']:\n",
    "        if (playlist['name'] == playlist_name):\n",
    "            playlist_id = playlist['id']\n",
    "    \n",
    "    \n",
    "    playlist_data = SPOTIPY_OBJECT.user_playlist(\n",
    "        username,\n",
    "        playlist_id,\n",
    "    )\n",
    "    \n",
    "    playlist_tracks = playlist_data[\"tracks\"]\n",
    "    playlist_songs = playlist_tracks[\"items\"] \n",
    "    \n",
    "    while playlist_tracks['next']:\n",
    "\n",
    "        playlist_tracks = SPOTIPY_OBJECT.next(playlist_tracks)\n",
    "        for item in playlist_tracks['items']:\n",
    "            playlist_songs.append(item)\n",
    "\n",
    "    return playlist_songs\n"
   ]
  },
  {
   "cell_type": "code",
   "execution_count": 5,
   "metadata": {},
   "outputs": [],
   "source": [
    "likes_playlist_data = get_playlist_data(playlists, 'likes')\n",
    "dislikes_playlist_data = get_playlist_data(playlists, 'dislikes')"
   ]
  },
  {
   "cell_type": "markdown",
   "metadata": {},
   "source": [
    "### Getting our final dataframe from playlist data"
   ]
  },
  {
   "cell_type": "code",
   "execution_count": 6,
   "metadata": {},
   "outputs": [],
   "source": [
    "def get_dataframe(playlist_data):\n",
    "    track_ids = []\n",
    "\n",
    "    for track in playlist_data:\n",
    "        if track['track']['id']:\n",
    "            track_ids.append(track['track']['id'])\n",
    "    \n",
    "    track_features_list = []\n",
    "    \n",
    "    for i in range(0, len(track_ids), 50):\n",
    "        track_features_list.extend(SPOTIPY_OBJECT.audio_features(tracks=track_ids[i:i+50]))\n",
    "\n",
    "    track_features = {}\n",
    "\n",
    "    for i in range(len(track_ids)):\n",
    "        track_features[track_ids[i]] = track_features_list[i]\n",
    "\n",
    "    \n",
    "    artist_ids = {}\n",
    "    artist_genres = {}\n",
    "    artist_names = {}\n",
    "    artist_popularity = {}\n",
    "    artist_followers = {}\n",
    "\n",
    "    for track_id in track_ids:\n",
    "\n",
    "        artist_id = SPOTIPY_OBJECT.track(track_id)['artists'][0]['id']\n",
    "        artist_info = SPOTIPY_OBJECT.artist(artist_id)\n",
    "        artist_ids[track_id] = artist_id\n",
    "\n",
    "        artist_genres[artist_id] = ','.join(artist_info['genres'])\n",
    "        artist_names[artist_id] = artist_info['name']\n",
    "        artist_popularity[artist_id] = artist_info['popularity']\n",
    "        artist_followers[artist_id] = artist_info['followers']['total']\n",
    "\n",
    "    track_features_df = pd.DataFrame.from_dict(\n",
    "        track_features,\n",
    "        orient='index'\n",
    "    ).reset_index().rename(columns={'id': 'track_id'}).drop(columns=['index'])\n",
    "    [\n",
    "        [\n",
    "            'track_id',\n",
    "            'instrumentalness',\n",
    "            'energy',\n",
    "            'tempo',\n",
    "            'time_signature', \n",
    "            'valence',\n",
    "            'duration_ms',\n",
    "            'key',\n",
    "            'liveness',\n",
    "            'speechiness',\n",
    "            'danceability',\n",
    "            'loudness',\n",
    "        ]\n",
    "    ]\n",
    "\n",
    "    final_df = pd.DataFrame(\n",
    "        columns=[\n",
    "            'track_id',\n",
    "            'artist_id',\n",
    "            'artist_name',\n",
    "            'artist_popularity',\n",
    "            'artist_followers',\n",
    "            'artist_genres',\n",
    "            'instrumentalness',\n",
    "            'duration_ms',\n",
    "            'time_signature',\n",
    "            'acousticness',\n",
    "            'speechiness',\n",
    "            'energy',\n",
    "            'loudness',\n",
    "            'tempo',\n",
    "            'key',\n",
    "            'valence',\n",
    "            'danceability',\n",
    "            'liveness',\n",
    "        ]\n",
    "    )\n",
    "\n",
    "    track_energy = track_features_df[['track_id', 'energy']].set_index('track_id').to_dict()['energy']\n",
    "    track_tempo = track_features_df[['track_id', 'tempo']].set_index('track_id').to_dict()['tempo']\n",
    "    track_time_signature = track_features_df[['track_id', 'time_signature']].set_index('track_id').to_dict()['time_signature']\n",
    "    track_valence = track_features_df[['track_id', 'valence']].set_index('track_id').to_dict()['valence']\n",
    "    track_duration_ms = track_features_df[['track_id', 'duration_ms']].set_index('track_id').to_dict()['duration_ms']\n",
    "    track_key = track_features_df[['track_id', 'key']].set_index('track_id').to_dict()['key']\n",
    "    track_liveness = track_features_df[['track_id', 'liveness']].set_index('track_id').to_dict()['liveness']\n",
    "    track_speechiness = track_features_df[['track_id', 'speechiness']].set_index('track_id').to_dict()['speechiness']\n",
    "    track_danceability = track_features_df[['track_id', 'danceability']].set_index('track_id').to_dict()['danceability']\n",
    "    track_loudness = track_features_df[['track_id', 'loudness']].set_index('track_id').to_dict()['loudness']\n",
    "    track_instrumentalness = track_features_df[['track_id', 'instrumentalness']].set_index('track_id').to_dict()['instrumentalness']\n",
    "    track_acousticness = track_features_df[['track_id', 'acousticness']].set_index('track_id').to_dict()['acousticness']\n",
    "\n",
    "    for i in range(len(track_ids)):\n",
    "\n",
    "        track_id = track_ids[i]\n",
    "        data = []\n",
    "        artist_id = artist_ids[track_id]\n",
    "\n",
    "        data.extend(\n",
    "            (\n",
    "                track_id,\n",
    "                artist_id,\n",
    "                artist_names[artist_id],\n",
    "                artist_popularity[artist_id],\n",
    "                artist_followers[artist_id],\n",
    "                artist_genres[artist_id],\n",
    "                track_instrumentalness[track_id],\n",
    "                track_duration_ms[track_id],\n",
    "                track_time_signature[track_id],\n",
    "                track_acousticness[track_id],\n",
    "                track_speechiness[track_id],\n",
    "                track_energy[track_id],\n",
    "                track_loudness[track_id],\n",
    "                track_tempo[track_id],\n",
    "                track_key[track_id],\n",
    "                track_valence[track_id],\n",
    "                track_danceability[track_id],\n",
    "                track_liveness[track_id],\n",
    "            )\n",
    "        )\n",
    "\n",
    "        final_df.loc[i] = data\n",
    "\n",
    "    return final_df"
   ]
  },
  {
   "cell_type": "markdown",
   "metadata": {},
   "source": [
    "This is where the actual dataframe is created."
   ]
  },
  {
   "cell_type": "code",
   "execution_count": 7,
   "metadata": {},
   "outputs": [],
   "source": [
    "likes_df = get_dataframe(likes_playlist_data)\n",
    "dislikes_df = get_dataframe(dislikes_playlist_data)\n"
   ]
  },
  {
   "cell_type": "code",
   "execution_count": 8,
   "metadata": {},
   "outputs": [],
   "source": [
    "# likes_df"
   ]
  },
  {
   "cell_type": "code",
   "execution_count": 9,
   "metadata": {},
   "outputs": [],
   "source": [
    "# dislikes_df"
   ]
  },
  {
   "cell_type": "code",
   "execution_count": 10,
   "metadata": {},
   "outputs": [],
   "source": [
    "likes_df.to_csv('likes.csv', encoding='utf-8')\n",
    "dislikes_df.to_csv('dislikes.csv', encoding='utf-8')\n"
   ]
  }
 ],
 "metadata": {
  "kernelspec": {
   "display_name": "Python 3",
   "language": "python",
   "name": "python3"
  },
  "language_info": {
   "codemirror_mode": {
    "name": "ipython",
    "version": 3
   },
   "file_extension": ".py",
   "mimetype": "text/x-python",
   "name": "python",
   "nbconvert_exporter": "python",
   "pygments_lexer": "ipython3",
   "version": "3.5.3"
  }
 },
 "nbformat": 4,
 "nbformat_minor": 2
}
