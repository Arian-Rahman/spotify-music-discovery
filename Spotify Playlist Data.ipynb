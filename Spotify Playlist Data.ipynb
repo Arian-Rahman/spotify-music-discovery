{
 "cells": [
  {
   "cell_type": "code",
   "execution_count": 1,
   "metadata": {},
   "outputs": [],
   "source": [
    "'''\n",
    "This handles logging in to Spotify and returning a Spotipy object\n",
    "'''\n",
    "\n",
    "import os\n",
    "\n",
    "import spotipy\n",
    "import spotipy.util as util\n",
    "import pandas as pd\n",
    "\n",
    "import config\n",
    "\n",
    "username = config.CLIENT_USERNAME\n"
   ]
  },
  {
   "cell_type": "code",
   "execution_count": 2,
   "metadata": {},
   "outputs": [],
   "source": [
    "def login_to_spotify():\n",
    "    '''\n",
    "    handles logging in to spotify and returning a spotipy object\n",
    "    '''\n",
    "\n",
    "    os.environ['SPOTIPY_CLIENT_ID'] = config.CLIENT_ID\n",
    "    os.environ['SPOTIPY_CLIENT_SECRET'] = config.CLIENT_SECRET\n",
    "    os.environ['SPOTIPY_REDIRECT_URI'] = 'http://localhost:8888/callback/'\n",
    "\n",
    "    username = ''\n",
    "\n",
    "    scope = 'user-library-read playlist-read-private user-top-read'\n",
    "\n",
    "    token = util.prompt_for_user_token(\n",
    "        username,\n",
    "        scope\n",
    "    )\n",
    "\n",
    "    spotipy_wrapper = spotipy.Spotify(\n",
    "        auth=token\n",
    "    )\n",
    "\n",
    "    if token:\n",
    "        spotipy_wrapper = spotipy.Spotify(auth=token)\n",
    "        return spotipy_wrapper\n",
    "\n",
    "    print(\"Can't get token for\", username)\n",
    "    return None"
   ]
  },
  {
   "cell_type": "code",
   "execution_count": 3,
   "metadata": {},
   "outputs": [],
   "source": [
    "SPOTIPY_OBJECT = login_to_spotify()\n",
    "playlists = SPOTIPY_OBJECT.user_playlists(username)"
   ]
  },
  {
   "cell_type": "code",
   "execution_count": 4,
   "metadata": {},
   "outputs": [],
   "source": [
    "for playlist in playlists['items']:\n",
    "    if (playlist['owner']['id'] == username) and \\\n",
    "        (playlist['name'] == 'likes'):\n",
    "        likes_id = playlist['id']\n",
    "    elif (playlist['owner']['id'] == username) and \\\n",
    "        (playlist['name'] == 'dislikes'):\n",
    "        dislikes_id = playlist['id']\n",
    "    elif (playlist['owner']['id'] == username) and \\\n",
    "        (playlist['name'] == 'amb-tech'):\n",
    "        amb_tech_id = playlist['id']\n",
    "\n",
    "results = SPOTIPY_OBJECT.user_playlist(\n",
    "                username,\n",
    "                amb_tech_id,\n",
    "            )['tracks']['items']"
   ]
  },
  {
   "cell_type": "code",
   "execution_count": 5,
   "metadata": {},
   "outputs": [
    {
     "data": {
      "text/plain": [
       "['3yWl69NlEkqdGDUtLzDQl4',\n",
       " '5zSGNCPUCQXsqzdYAggfUe',\n",
       " '5RSLE68Xq2m6h7ggtVReSL',\n",
       " '50PtCIy3QV8JTfmXISe2I7',\n",
       " '2EAwwq6Rq2KOE6sgth13ah',\n",
       " '0WsROU8CJrMWBukK5IMs4y',\n",
       " '6JfhpeR95WeRE3xnXB1pPo',\n",
       " '1H5neWFEXm8YnlXGH3MhIW',\n",
       " '2Cq5ETe5Wit7ZMV7N1Ogxe',\n",
       " '7gECnmpNOXBRinZCsTrDKm',\n",
       " '21DNvUd4vvPlytmPh9nIXA',\n",
       " '4TQmCn0e9L7XTiKY4Hk8X4',\n",
       " '2ZAQ5A65YqpQ7vLiRXebSE']"
      ]
     },
     "execution_count": 5,
     "metadata": {},
     "output_type": "execute_result"
    }
   ],
   "source": [
    "track_ids = []\n",
    "\n",
    "for track in results:\n",
    "     track_ids.append(track['track']['id'])\n",
    "    \n",
    "# track_ids"
   ]
  },
  {
   "cell_type": "code",
   "execution_count": 6,
   "metadata": {},
   "outputs": [],
   "source": [
    "track_features_list = SPOTIPY_OBJECT.audio_features(tracks=track_ids)\n",
    "track_features = {}\n",
    "\n",
    "for i in range(len(track_ids)):\n",
    "    track_features[track_ids[i]] = track_features_list[i]\n"
   ]
  },
  {
   "cell_type": "code",
   "execution_count": 7,
   "metadata": {},
   "outputs": [],
   "source": [
    "track_analysis = {}\n",
    "\n",
    "artist_ids = {}\n",
    "artist_genres = {}\n",
    "artist_names = {}\n",
    "artist_popularity = {}\n",
    "artist_followers = {}\n",
    "\n",
    "for track_id in track_ids:\n",
    "    track_analysis[track_id] = SPOTIPY_OBJECT.audio_analysis(track_id)['track']\n",
    "    \n",
    "    artist_id = SPOTIPY_OBJECT.track(track_id)['artists'][0]['id']\n",
    "    artist_ids[track_id] = artist_id\n",
    "    \n",
    "    artist_info = SPOTIPY_OBJECT.artist(artist_id)\n",
    "    \n",
    "    artist_genres[artist_id] = ','.join(artist_info['genres'])\n",
    "    artist_names[artist_id] = artist_info['name']\n",
    "    artist_popularity[artist_id] = artist_info['popularity']\n",
    "    artist_followers[artist_id] = artist_info['followers']['total']\n",
    "    "
   ]
  },
  {
   "cell_type": "code",
   "execution_count": 8,
   "metadata": {},
   "outputs": [],
   "source": [
    "artist_ids_df = pd.DataFrame.from_dict(\n",
    "    artist_ids,\n",
    "    orient='index',\n",
    "    columns=['artist_id']\n",
    ").reset_index().rename(columns={'index': 'track_id'}).astype({'track_id': str, 'artist_id': str})\n",
    "\n",
    "artist_names_df = pd.DataFrame.from_dict(\n",
    "    artist_names,\n",
    "    orient='index',\n",
    "    columns=['artist_name']\n",
    ").reset_index().rename(columns={'index': 'artist_id'}).astype({'artist_id': str, 'artist_name': str})\n",
    "\n",
    "artist_popularity_df = pd.DataFrame.from_dict(\n",
    "    artist_popularity,\n",
    "    orient='index',\n",
    "    columns=['artist_popularity']\n",
    ").reset_index().rename(columns={'index': 'artist_id'}).astype({'artist_id': str, 'artist_popularity': int})\n",
    "\n",
    "artist_followers_df = pd.DataFrame.from_dict(\n",
    "    artist_followers,\n",
    "    orient='index',\n",
    "    columns=['artist_followers']\n",
    ").reset_index().rename(columns={'index': 'artist_id'}).astype({'artist_id': str, 'artist_followers': int})\n",
    "\n",
    "artist_genres_df = pd.DataFrame.from_dict(\n",
    "    artist_genres,\n",
    "    orient='index',\n",
    "    columns=['artist_genres']\n",
    ").reset_index().rename(columns={'index': 'artist_id'}).astype({'artist_id': str, 'artist_genres': str})\n",
    "\n",
    "track_features_df = pd.DataFrame.from_dict(\n",
    "    track_features,\n",
    "    orient='index'\n",
    ").reset_index().rename(columns={'id': 'track_id'}).drop(columns=['index'])\n",
    "\n",
    "\n",
    "track_analysis_df = pd.DataFrame.from_dict(\n",
    "    track_analysis,\n",
    "    orient='index'\n",
    ").reset_index().drop(\n",
    "    columns=[\n",
    "        'codestring',\n",
    "        'rhythmstring',\n",
    "        'synchstring',\n",
    "        'code_version',\n",
    "        'echoprint_version',\n",
    "        'rhythm_version',\n",
    "        'synch_version',\n",
    "    ]\n",
    ").rename(columns={'index': 'track_id'})\n"
   ]
  }
 ],
 "metadata": {
  "kernelspec": {
   "display_name": "Python 3",
   "language": "python",
   "name": "python3"
  },
  "language_info": {
   "codemirror_mode": {
    "name": "ipython",
    "version": 3
   },
   "file_extension": ".py",
   "mimetype": "text/x-python",
   "name": "python",
   "nbconvert_exporter": "python",
   "pygments_lexer": "ipython3",
   "version": "3.5.3"
  }
 },
 "nbformat": 4,
 "nbformat_minor": 2
}
