{
 "cells": [
  {
   "cell_type": "code",
   "execution_count": null,
   "metadata": {},
   "outputs": [],
   "source": [
    "import sklearn\n",
    "from pkg.config import CLIENT_ID, CLIENT_USERNAME, CLIENT_SECRET\n",
    "from pkg.serialize import load_classifier, load_all_classifiers\n",
    "from pkg.spotipy import get_playlist_data, login_to_spotify\n",
    "from pkg.classify import get_playlist_features, classify_playlist\n",
    "\n",
    "SPOTIPY_OBJECT = login_to_spotify(CLIENT_USERNAME, CLIENT_ID, CLIENT_SECRET)"
   ]
  },
  {
   "cell_type": "markdown",
   "metadata": {},
   "source": [
    "User inputs are entered below. You **must** specify a playlist by Spotify URI or playlist ID."
   ]
  },
  {
   "cell_type": "markdown",
   "metadata": {},
   "source": [
    "Run the following cell, and enter the full filename of any classifier file in the 'classifiers' folder, e.g. user_name2019-04-21@164523.pkl.\n",
    "\n",
    "You can specify a classifier by filename, or leave it blank to run all classifiers."
   ]
  },
  {
   "cell_type": "code",
   "execution_count": null,
   "metadata": {},
   "outputs": [],
   "source": [
    "CLASSIFIER_FILENAME = input()\n",
    "# Use the full name of any file in the 'classifiers' folder, e.g. user_name2019-04-21@164523.pkl\n",
    "# Provide a blank input to run all classifiers. "
   ]
  },
  {
   "cell_type": "markdown",
   "metadata": {},
   "source": [
    "Run the following cell, and enter the full playlist ID (Spotify URI) of the playlist you would like to run the classifier on. Your playlist ID is accessible by right-clicking on a playlist within Spotify -> Share -> Copy Spotify URI, and removing the `spotify:user:USERNAME:playlist:` portion of the Spotify URI.\n",
    "\n",
    "e.g. `spotify:user:USERNAME:playlist:PLAYLIST_ID` (Spotify URI)"
   ]
  },
  {
   "cell_type": "code",
   "execution_count": null,
   "metadata": {},
   "outputs": [],
   "source": [
    "PLAYLIST = input()\n",
    "# You must specify a playlist\n",
    "# e.g. spotify:user:USERNAME:playlist:PLAYLIST_ID (Spotify URI)"
   ]
  },
  {
   "cell_type": "markdown",
   "metadata": {},
   "source": [
    "Playlist downloading and parsing happens here."
   ]
  },
  {
   "cell_type": "code",
   "execution_count": null,
   "metadata": {},
   "outputs": [],
   "source": [
    "if not PLAYLIST: raise RuntimeError('Please specify a playlist.')\n",
    "\n",
    "# download Spotify playlist data\n",
    "playlist_data, playlist_name = get_playlist_data(\n",
    "    SPOTIPY_OBJECT,\n",
    "    CLIENT_ID,\n",
    "    PLAYLIST)\n",
    "\n",
    "# parse/wrangle playlist data\n",
    "playlist_feature_data, playlist_data_dict = get_playlist_features(\n",
    "    SPOTIPY_OBJECT,\n",
    "    playlist_data,\n",
    "    playlist_name\n",
    ")"
   ]
  },
  {
   "cell_type": "markdown",
   "metadata": {},
   "source": [
    "Classifer loading happens here."
   ]
  },
  {
   "cell_type": "code",
   "execution_count": null,
   "metadata": {},
   "outputs": [],
   "source": [
    "if CLASSIFIER_FILENAME:\n",
    "    CLASSIFIERS = [(load_classifier(CLASSIFIER_FILENAME), CLASSIFIER_FILENAME)]\n",
    "else:\n",
    "    CLASSIFIERS = load_all_classifiers()"
   ]
  },
  {
   "cell_type": "markdown",
   "metadata": {},
   "source": [
    "Predictions happen here."
   ]
  },
  {
   "cell_type": "code",
   "execution_count": null,
   "metadata": {},
   "outputs": [],
   "source": [
    "for clf in CLASSIFIERS:\n",
    "    classify_playlist(clf, playlist_feature_data, playlist_data_dict)"
   ]
  }
 ],
 "metadata": {
  "kernelspec": {
   "display_name": "Python 3",
   "language": "python",
   "name": "python3"
  },
  "language_info": {
   "codemirror_mode": {
    "name": "ipython",
    "version": 3
   },
   "file_extension": ".py",
   "mimetype": "text/x-python",
   "name": "python",
   "nbconvert_exporter": "python",
   "pygments_lexer": "ipython3",
   "version": "3.5.3"
  }
 },
 "nbformat": 4,
 "nbformat_minor": 2
}
