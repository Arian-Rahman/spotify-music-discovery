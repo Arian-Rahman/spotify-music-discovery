{
 "cells": [
  {
   "cell_type": "markdown",
   "metadata": {},
   "source": [
    "This is where the metadata, feature space, and genres are read in and stored in the \"songs\" dictionary by `track_id`."
   ]
  },
  {
   "cell_type": "code",
   "execution_count": 1,
   "metadata": {},
   "outputs": [],
   "source": [
    "from pkg.pickclassifier import *\n",
    "from pkg.graphs import *\n",
    "from pkg.run import *\n",
    "from pkg.wrangling import *"
   ]
  },
  {
   "cell_type": "code",
   "execution_count": 2,
   "metadata": {},
   "outputs": [],
   "source": [
    "default_song_data = FrozenMap(read_data('data.csv'))\n",
    "genres = FrozenMap(read_genres('data.csv'))\n",
    "default_feature_names = tuple(next(iter(default_song_data.values()))['features'].keys())"
   ]
  },
  {
   "cell_type": "code",
   "execution_count": 3,
   "metadata": {},
   "outputs": [
    {
     "name": "stdout",
     "output_type": "stream",
     "text": [
      " likes: 1919 \n",
      " dislikes: 3790\n"
     ]
    }
   ],
   "source": [
    "# Sanity check\n",
    "l, dl = 0, 0\n",
    "for x in default_song_data.values():\n",
    "    if x['label'] == 1: l += 1\n",
    "    else: dl += 1\n",
    "print(' likes:', l, '\\n', 'dislikes:', dl)"
   ]
  },
  {
   "cell_type": "code",
   "execution_count": 4,
   "metadata": {},
   "outputs": [
    {
     "name": "stdout",
     "output_type": "stream",
     "text": [
      "2 3123.3948886881553\n",
      "3 2481.7166322571657\n",
      "4 2152.0688833043805\n",
      "5 1944.1595684967979\n",
      "6 1824.527518902902\n",
      "7 1711.463680347652\n",
      "8 1612.5454452933564\n",
      "9 1536.3092762289934\n",
      "10 1474.2760278975545\n"
     ]
    }
   ],
   "source": [
    "test_cluster_size(default_song_data, 10)"
   ]
  },
  {
   "cell_type": "code",
   "execution_count": 5,
   "metadata": {},
   "outputs": [],
   "source": [
    "clustered_song_data, songs_by_cluster = {}, {}\n",
    "clustered_song_data, songs_by_cluster = get_kmeans_clusters(default_song_data, NUM_CLUSTERS)"
   ]
  },
  {
   "cell_type": "code",
   "execution_count": 6,
   "metadata": {},
   "outputs": [],
   "source": [
    "if set(next(iter(default_song_data.values()))['features'].keys()) == set(next(iter(clustered_song_data.values()))['features'].keys()):\n",
    "    raise ValueError('Default features messed up.')"
   ]
  },
  {
   "cell_type": "code",
   "execution_count": 7,
   "metadata": {},
   "outputs": [],
   "source": [
    "default_training_data, default_validation_data, clustered_training_data, clustered_validation_data = get_experiment_split(default_song_data, clustered_song_data)\n",
    "training_clusters = get_train_clusters(clustered_training_data, songs_by_cluster[NUM_CLUSTERS])"
   ]
  },
  {
   "cell_type": "code",
   "execution_count": 8,
   "metadata": {},
   "outputs": [
    {
     "name": "stdout",
     "output_type": "stream",
     "text": [
      "----\n",
      "Unclustered\n",
      "----\n",
      "101\n",
      "svc accs w/ random\n",
      "64.15\t64.15\t64.15\t64.15\t64.15\t64.15\t64.15\t64.15\t64.15\t64.15\t64.15\t64.15\t64.15\t64.15\t64.15\t64.15\t64.15\t64.15\t64.15\t64.15\t64.15\t64.15\t64.15\t64.15\t64.15\t64.15\t64.15\t64.15\t64.15\t64.15\t64.15\t64.15\t64.15\t64.15\t64.15\t64.15\t64.15\t64.15\t64.15\t64.15\t64.15\t64.15\t64.15\t64.15\t64.15\t64.15\t64.15\t64.15\t64.15\t64.15\t64.15\t64.15\t64.15\t64.15\t64.15\t64.15\t64.15\t64.15\t64.15\t64.15\t64.15\t64.15\t64.15\t64.15\t64.15\t64.15\t64.15\t64.15\t64.15\t64.15\t64.15\t64.15\t64.15\t64.15\t64.15\t64.15\t64.15\t64.15\t64.15\t64.15\t64.15\t64.15\t64.15\t64.15\t64.15\t64.15\t64.15\t64.15\t64.15\t64.15\t64.15\t64.15\t64.15\t64.15\t64.15\t64.15\t64.15\t64.15\t64.15\t64.15\t64.15\t\n",
      "101\n",
      "svc accs w/ uncertainty\n",
      "64.15\t85.97\t35.84\t35.84\t35.84\t35.84\t35.84\t35.84\t35.84\t35.84\t35.84\t35.84\t35.84\t85.36\t35.84\t81.15\t64.15\t82.73\t64.15\t64.15\t64.15\t64.15\t64.15\t64.15\t64.15\t64.15\t64.15\t64.15\t64.15\t64.15\t64.15\t64.15\t64.15\t64.15\t64.15\t64.15\t64.15\t64.15\t64.15\t64.15\t64.15\t64.15\t64.15\t64.15\t64.15\t64.15\t64.15\t64.15\t64.15\t64.15\t64.15\t64.15\t64.15\t64.15\t64.15\t64.15\t64.15\t64.15\t64.15\t64.15\t64.15\t64.15\t64.15\t64.15\t64.15\t64.15\t64.15\t64.15\t64.15\t64.15\t64.15\t64.15\t64.15\t64.15\t64.15\t64.15\t64.15\t64.15\t64.15\t64.15\t64.15\t64.15\t64.15\t64.15\t64.15\t64.15\t64.15\t64.15\t64.15\t64.15\t64.15\t64.15\t64.15\t64.15\t64.15\t64.15\t64.15\t64.15\t64.15\t64.15\t64.15\t\n",
      "101\n",
      "lsvc accs w/ random\n",
      "42.85\t63.36\t47.23\t55.39\t72.74\t83.34\t85.53\t85.53\t73.7\t71.95\t74.93\t73.18\t70.46\t63.62\t62.92\t64.15\t70.63\t70.9\t74.84\t75.19\t75.1\t75.54\t73.7\t76.51\t76.51\t80.98\t77.38\t80.71\t83.34\t83.87\t83.96\t83.87\t85.8\t86.15\t85.53\t85.53\t86.32\t87.11\t86.94\t86.94\t86.15\t86.67\t86.76\t86.59\t87.02\t87.2\t87.11\t87.11\t87.46\t87.64\t87.46\t87.46\t87.46\t87.29\t87.64\t87.37\t87.46\t87.46\t87.46\t87.46\t87.29\t87.46\t87.73\t87.55\t87.55\t87.55\t87.73\t87.81\t87.81\t87.46\t87.46\t87.55\t87.55\t87.55\t87.55\t87.55\t88.34\t88.25\t88.25\t88.08\t88.08\t87.99\t88.08\t88.08\t88.08\t88.08\t88.16\t88.16\t87.99\t88.16\t88.34\t88.08\t88.08\t88.16\t88.16\t88.16\t88.08\t88.51\t88.25\t88.16\t88.16\t\n",
      "101\n",
      "lsvc accs w/ uncertainty\n",
      "39.0\t34.96\t36.28\t42.85\t38.91\t51.18\t65.55\t82.73\t82.2\t84.39\t84.04\t82.82\t86.76\t86.15\t87.02\t85.97\t85.88\t85.8\t87.73\t87.64\t87.73\t87.73\t87.99\t87.81\t88.08\t88.16\t88.34\t88.34\t88.25\t88.25\t88.34\t88.51\t88.16\t87.9\t87.99\t87.99\t87.73\t87.81\t87.73\t87.9\t87.9\t87.99\t87.9\t87.9\t87.9\t88.08\t87.73\t87.46\t87.55\t87.46\t87.64\t87.64\t88.08\t87.55\t87.64\t87.9\t87.9\t87.99\t88.08\t87.9\t87.64\t87.64\t87.55\t87.73\t87.73\t87.81\t87.81\t87.81\t87.81\t87.81\t87.55\t87.55\t87.55\t87.46\t87.46\t87.46\t87.29\t87.2\t87.29\t87.29\t87.29\t87.29\t87.37\t87.02\t87.02\t87.29\t87.29\t87.29\t87.29\t87.2\t87.2\t87.11\t87.11\t87.11\t86.94\t87.02\t87.02\t87.37\t87.37\t87.55\t87.46\t\n",
      "101\n",
      "sgd accs w/ random\n",
      "64.24\t57.75\t57.75\t57.75\t57.75\t35.84\t35.84\t59.15\t59.15\t64.41\t64.41\t64.41\t64.41\t64.41\t64.41\t64.41\t64.41\t64.41\t64.41\t64.41\t66.25\t66.25\t66.17\t66.17\t66.17\t66.17\t51.18\t72.74\t72.74\t72.74\t72.74\t72.74\t67.39\t67.39\t79.05\t79.05\t79.05\t79.05\t79.05\t72.48\t72.48\t72.48\t72.48\t72.48\t72.48\t36.28\t83.96\t73.0\t73.0\t73.0\t73.0\t73.0\t73.0\t73.0\t73.0\t73.0\t73.0\t73.0\t82.9\t82.9\t82.9\t82.9\t82.9\t82.9\t70.11\t70.11\t70.11\t70.11\t70.11\t76.86\t75.46\t75.46\t75.46\t75.46\t75.46\t75.46\t83.17\t76.16\t76.16\t78.61\t74.23\t62.22\t62.22\t78.96\t78.96\t61.61\t77.47\t77.47\t77.47\t65.2\t65.2\t85.62\t85.62\t85.62\t85.62\t85.62\t45.83\t45.83\t45.83\t45.83\t45.83\t\n",
      "101\n",
      "sgd accs w/ uncertainty\n",
      "69.76\t69.76\t69.76\t69.76\t69.76\t69.76\t64.15\t37.33\t65.03\t65.03\t65.03\t65.03\t65.03\t37.33\t67.13\t36.45\t84.66\t36.37\t85.97\t85.97\t85.97\t85.97\t36.28\t36.28\t85.27\t85.27\t85.27\t85.27\t36.98\t36.98\t82.29\t65.9\t65.9\t65.9\t65.9\t65.9\t85.88\t85.88\t85.88\t85.88\t85.88\t85.88\t85.88\t85.88\t85.88\t85.88\t85.88\t85.88\t85.88\t85.88\t85.88\t85.88\t38.29\t84.48\t84.48\t64.5\t83.17\t83.17\t83.17\t83.17\t83.17\t83.17\t83.17\t83.17\t83.17\t66.08\t66.08\t66.08\t85.53\t85.53\t67.83\t88.25\t39.08\t39.08\t39.08\t80.01\t80.01\t80.01\t80.01\t80.01\t80.01\t80.01\t76.68\t74.49\t74.49\t74.49\t74.49\t74.49\t81.41\t81.41\t81.41\t81.41\t81.41\t73.09\t77.03\t77.03\t77.03\t77.03\t77.03\t77.03\t77.03\t\n"
     ]
    }
   ],
   "source": [
    "print('----\\nUnclustered\\n----')\n",
    "active_unclustered_results = run_active_suite(default_song_data, default_training_data, default_validation_data, SUPPORTED_ALGS, AL_STRATS)"
   ]
  },
  {
   "cell_type": "code",
   "execution_count": 9,
   "metadata": {},
   "outputs": [
    {
     "name": "stdout",
     "output_type": "stream",
     "text": [
      "----\n",
      "Clustered\n",
      "----\n",
      "101\n",
      "svc accs w/ random\n",
      "64.15\t80.1\t64.15\t84.57\t64.15\t81.41\t64.15\t85.88\t64.15\t87.37\t35.84\t35.84\t35.84\t35.84\t35.84\t35.84\t35.84\t35.84\t35.84\t35.84\t35.84\t35.84\t35.84\t35.84\t35.84\t35.84\t35.84\t87.9\t64.15\t64.15\t64.15\t87.9\t64.15\t64.15\t64.15\t64.15\t64.15\t64.15\t64.15\t64.15\t64.15\t64.15\t64.15\t64.15\t64.15\t64.15\t64.15\t64.15\t64.15\t64.15\t64.15\t64.15\t64.15\t64.15\t64.15\t64.15\t64.15\t64.15\t64.15\t64.15\t64.15\t64.15\t64.15\t64.15\t64.15\t64.15\t64.15\t64.15\t64.15\t64.15\t64.15\t64.15\t64.15\t64.15\t64.15\t64.15\t64.15\t64.15\t64.15\t64.15\t64.15\t64.15\t64.15\t64.15\t64.15\t64.15\t64.15\t64.15\t64.15\t64.15\t64.15\t64.15\t64.15\t64.15\t64.15\t64.15\t64.15\t64.15\t64.15\t64.15\t64.15\t\n",
      "101\n",
      "svc accs w/ uncertainty\n",
      "64.15\t64.15\t64.15\t70.02\t64.15\t64.15\t64.15\t64.15\t64.15\t64.15\t64.15\t66.78\t35.84\t65.81\t35.84\t70.02\t35.84\t35.84\t35.84\t85.45\t64.15\t64.15\t64.15\t64.15\t64.15\t64.15\t64.15\t64.15\t64.15\t64.15\t64.15\t64.15\t64.15\t64.15\t64.15\t64.15\t64.15\t64.15\t64.15\t64.15\t64.15\t64.15\t64.15\t64.15\t64.15\t64.15\t64.15\t64.15\t64.15\t64.15\t64.15\t64.15\t64.15\t64.15\t64.15\t64.15\t64.15\t64.15\t64.15\t64.15\t64.15\t64.15\t64.15\t64.15\t64.15\t64.15\t64.15\t64.15\t64.15\t64.15\t64.15\t64.15\t64.15\t64.15\t64.15\t64.15\t64.15\t64.15\t64.15\t64.15\t64.15\t64.15\t64.15\t64.15\t64.15\t64.15\t64.15\t64.15\t64.15\t64.15\t64.15\t64.15\t64.15\t64.15\t64.15\t64.15\t64.15\t64.15\t64.15\t64.15\t64.15\t\n",
      "101\n",
      "lsvc accs w/ random\n",
      "63.71\t63.71\t63.71\t63.71\t63.71\t63.71\t63.97\t71.69\t70.2\t68.97\t68.36\t67.74\t67.48\t67.48\t67.48\t74.14\t79.05\t78.17\t77.91\t77.65\t77.38\t77.38\t77.03\t80.28\t80.28\t82.47\t82.47\t82.47\t82.38\t83.17\t84.31\t84.57\t84.48\t84.48\t84.48\t84.48\t84.83\t85.45\t85.45\t85.45\t85.36\t85.18\t85.62\t85.62\t85.62\t85.71\t85.62\t86.15\t86.85\t86.85\t85.53\t85.53\t85.53\t85.53\t85.8\t85.8\t85.8\t85.8\t86.15\t86.59\t86.32\t86.32\t86.41\t86.41\t86.41\t86.15\t86.59\t87.2\t87.29\t87.46\t87.46\t87.02\t87.02\t87.11\t87.11\t87.11\t87.11\t86.67\t86.67\t86.85\t86.67\t86.67\t86.67\t87.11\t87.02\t87.29\t87.29\t87.11\t87.11\t87.11\t87.2\t87.11\t87.73\t87.73\t87.73\t87.99\t87.99\t87.99\t87.81\t87.81\t87.81\t\n",
      "101\n",
      "lsvc accs w/ uncertainty\n",
      "65.64\t81.77\t81.15\t68.27\t71.86\t77.47\t75.1\t74.67\t72.83\t72.48\t72.48\t72.21\t72.04\t79.14\t78.96\t78.7\t80.89\t84.04\t82.55\t82.47\t79.92\t80.8\t82.9\t84.48\t83.43\t83.17\t82.99\t83.34\t82.99\t80.71\t80.71\t81.85\t82.55\t82.47\t82.47\t82.2\t82.2\t82.29\t82.38\t82.38\t82.64\t82.55\t79.84\t79.22\t79.22\t79.22\t79.22\t78.7\t79.57\t81.85\t82.2\t82.9\t82.64\t83.08\t83.17\t83.17\t83.52\t83.69\t84.22\t83.96\t83.26\t82.38\t81.94\t81.85\t81.06\t81.06\t80.89\t81.33\t82.64\t83.43\t83.43\t82.38\t82.47\t82.99\t82.99\t81.59\t81.94\t81.94\t82.55\t82.47\t82.64\t82.64\t82.9\t82.55\t82.03\t82.29\t81.33\t81.41\t81.06\t81.06\t81.41\t80.8\t80.8\t80.63\t80.8\t80.8\t80.19\t80.1\t80.1\t79.22\t79.75\t\n",
      "101\n",
      "sgd accs w/ random\n",
      "64.15\t50.83\t50.83\t50.83\t64.24\t58.8\t58.8\t64.5\t80.36\t80.36\t80.36\t80.36\t80.36\t65.9\t65.9\t65.9\t77.73\t77.73\t77.73\t77.73\t77.73\t75.19\t60.03\t73.26\t55.21\t55.21\t76.77\t65.55\t65.55\t65.55\t65.55\t65.55\t65.55\t65.55\t65.55\t65.55\t65.55\t65.55\t65.55\t65.55\t65.55\t65.55\t65.55\t87.2\t87.2\t87.2\t87.2\t87.2\t47.32\t87.46\t87.46\t87.46\t87.46\t87.46\t87.46\t87.46\t87.46\t87.46\t87.46\t87.46\t65.2\t65.2\t87.2\t87.2\t87.2\t87.2\t41.8\t41.8\t85.71\t85.71\t85.71\t85.71\t85.71\t85.71\t85.71\t85.71\t85.71\t85.71\t85.71\t85.71\t85.71\t85.71\t85.71\t85.71\t38.12\t87.46\t87.46\t74.23\t74.23\t74.23\t74.23\t74.23\t87.46\t87.46\t87.46\t39.52\t39.52\t39.52\t39.52\t87.46\t87.46\t\n",
      "101\n",
      "sgd accs w/ uncertainty\n",
      "52.93\t64.15\t64.15\t64.15\t64.15\t47.06\t64.41\t86.32\t86.32\t35.84\t35.84\t82.99\t65.38\t87.2\t87.2\t80.54\t80.54\t80.54\t80.54\t80.54\t80.54\t80.54\t80.54\t80.54\t80.63\t80.63\t80.63\t41.45\t86.06\t86.06\t86.06\t86.06\t86.06\t86.06\t86.06\t86.06\t86.06\t86.06\t86.06\t86.06\t86.06\t86.06\t86.06\t86.06\t86.06\t38.12\t38.12\t38.12\t87.29\t87.29\t87.29\t87.29\t87.29\t87.29\t87.29\t87.29\t87.29\t36.37\t76.42\t76.42\t76.42\t76.42\t66.34\t66.34\t66.34\t66.34\t66.34\t66.34\t84.04\t84.04\t84.04\t84.04\t84.04\t84.04\t84.04\t66.25\t66.25\t88.95\t88.95\t88.95\t88.95\t88.95\t88.95\t88.95\t39.08\t88.43\t49.95\t35.84\t35.84\t47.15\t87.11\t87.11\t87.11\t87.11\t87.11\t87.11\t68.79\t68.79\t68.79\t88.08\t54.68\t\n"
     ]
    }
   ],
   "source": [
    "print('----\\nClustered\\n----')\n",
    "active_clustered_results = run_active_suite(default_song_data, clustered_training_data, clustered_validation_data, SUPPORTED_ALGS, AL_STRATS)"
   ]
  },
  {
   "cell_type": "code",
   "execution_count": 10,
   "metadata": {},
   "outputs": [
    {
     "name": "stdout",
     "output_type": "stream",
     "text": [
      "\n",
      "----\n",
      "Clustered w/ Cluster Sampling\n",
      "----\n",
      "sgd accs w/ random\n",
      "79.22\t66.52\t65.11\t55.47\t50.3\t78.17\t84.22\t66.08\t66.08\t85.88\t85.88\t85.88\t84.22\t84.22\t84.22\t39.61\t73.44\t84.22\t84.66\t58.28\t85.53\t58.63\t85.88\t85.88\t64.32\t82.38\t\n",
      "sgd accs w/ uncertainty\n",
      "86.94\t64.24\t64.24\t53.81\t53.81\t51.88\t64.68\t55.12\t86.41\t85.53\t65.55\t65.55\t76.16\t69.23\t36.54\t87.29\t35.93\t81.5\t81.5\t77.56\t80.54\t80.54\t80.54\t81.15\t80.36\t80.01\t\n"
     ]
    }
   ],
   "source": [
    "print('\\n----\\nClustered w/ Cluster Sampling\\n----')\n",
    "active_cluster_sampled_results = run_clusters_suite(default_song_data, clustered_training_data, clustered_validation_data, training_clusters)"
   ]
  },
  {
   "cell_type": "code",
   "execution_count": 19,
   "metadata": {
    "scrolled": false
   },
   "outputs": [],
   "source": [
    "\n",
    "# # default_training_data, default_validation_data, clustered_training_data, clustered_validation_data\n",
    "\n",
    "# with open('plots/' + str(NUM_CLUSTERS) + '_benchmarks.txt', 'w') as file:\n",
    "#     svc_bench_unclustered = run_benchmark('svc', default_training_data, default_validation_data)\n",
    "#     svc_bench_clustered = run_benchmark('svc', clustered_training_data, clustered_validation_data)\n",
    "#     s = 'svc accs:\\t' + str(svc_bench_unclustered) + '\\t' + str(svc_bench_clustered)\n",
    "#     file.write(s)\n",
    "#     print(s)\n",
    "#     lsvc_bench_unclustered = run_benchmark('lsvc', default_training_data, default_validation_data)\n",
    "#     lsvc_bench_clustered = run_benchmark('lsvc', clustered_training_data, clustered_validation_data)\n",
    "#     s = 'lsvc accs:\\t' + str(lsvc_bench_unclustered) + '\\t' + str(lsvc_bench_clustered)\n",
    "#     file.write(s)\n",
    "#     print(s)\n",
    "#     sgd_bench_unclustered = run_benchmark('sgd', default_training_data, default_validation_data)\n",
    "#     sgd_bench_clustered = run_benchmark('sgd', clustered_training_data, clustered_validation_data)\n",
    "#     s = 'sgd accs:\\t' + str(sgd_bench_unclustered) + '\\t' + str(sgd_bench_clustered)\n",
    "#     file.write(s)\n",
    "#     print(s)\n",
    "# # print()\n",
    "# # print(active_unclustered_results)\n",
    "# # print(active_clustered_results)\n",
    "# # print(active_cluster_sampled_results)"
   ]
  },
  {
   "cell_type": "code",
   "execution_count": 12,
   "metadata": {
    "scrolled": true
   },
   "outputs": [],
   "source": [
    "# print(active_unclustered_results.keys())\n",
    "# print(active_clustered_results.keys())\n",
    "# print(active_cluster_sampled_results.keys())"
   ]
  },
  {
   "cell_type": "code",
   "execution_count": 13,
   "metadata": {},
   "outputs": [],
   "source": [
    "# result_list = [active_unclustered_results, active_clustered_results]\n",
    "# label_list = ['Unclustered', 'Clustered']\n",
    "\n",
    "# # def get_new_results(alg):\n",
    "# #     new_results = {}\n",
    "# #     for i in range(len(result_list)):\n",
    "# #         new_results[label_list[i]] = {}\n",
    "# #         for k in result_list[i][alg]: new_results[label_list[i]][k] = result_list[i][alg][k]\n",
    "# #     return new_results\n",
    "\n",
    "# svc_results = get_new_results('svc')\n",
    "# lsvc_results = get_new_results('lsvc')\n",
    "# sgd_results = get_new_results('sgd')"
   ]
  },
  {
   "cell_type": "code",
   "execution_count": 14,
   "metadata": {},
   "outputs": [],
   "source": [
    "# # def get_plottable_results(data):\n",
    "# #     y, labels = [], []\n",
    "# #     #print(svc_results.keys())\n",
    "# #     for k in data:\n",
    "# #         #print(svc_results[k].keys())\n",
    "# #         for l in data[k]:\n",
    "# #             #print(type(svc_results[k][l]))\n",
    "# #             y.append(data[k][l])\n",
    "# #             labels.append(k + ' ' + (' Random' if l == 'random' else ' Uncertainty'))\n",
    "# #     return y, labels\n",
    "\n",
    "# svc_y, svc_l = get_plottable_results(svc_results)\n",
    "# lsvc_y, lsvc_l = get_plottable_results(lsvc_results)\n",
    "# sgd_y, sgd_l = get_plottable_results(sgd_results)\n",
    "\n",
    "# svc_y_r, svc_l_r = svc_y[::2], svc_l[::2]\n",
    "# svc_y_u, svc_l_u = svc_y[1::2], svc_l[1::2]\n",
    "# # lsvc_y_r, lsvc_l_r = lsvc_y[::2], lsvc_l[::2]\n",
    "# # lsvc_y_u, lsvc_l_u = lsvc_y[1::2], lsvc_l[1::2]\n",
    "# sgd_y_r, sgd_l_r = sgd_y[::2], sgd_l[::2]\n",
    "# sgd_y_u, sgd_l_u = sgd_y[1::2], sgd_l[1::2]"
   ]
  },
  {
   "cell_type": "code",
   "execution_count": 15,
   "metadata": {},
   "outputs": [],
   "source": [
    "# import matplotlib.pyplot as plt\n",
    "# import matplotlib.ticker as mtick\n",
    "\n",
    "# def accuracy_plot(y, labels, title, benchmark, save=False):\n",
    "    \n",
    "#     x = [i + 5 for i in range(len(y[0]))]\n",
    " \n",
    "#     for i in range(len(y)):\n",
    "#         plt.plot(x, y[i], '--' if i % 2 == 0 else '-', label=labels[i])\n",
    "#     plt.plot(x, [benchmark for i in range(len(y[0]))], '-', label='Benchmark', color='black')\n",
    "#     plt.legend()\n",
    "#     plt.title(title)\n",
    "#     plt.xlabel('# Training Instances')\n",
    "#     plt.ylabel('Accuracy')\n",
    "#     plt.axis([5, 5+len(y[0]), 0, 1.0])\n",
    "#     plt.axes().yaxis.set_major_formatter(mtick.PercentFormatter(1.0))\n",
    "#     if save: plt.savefig('plots/' + str(NUM_CLUSTERS) + '_' + title.replace(' ', '_') + '.png')\n",
    "#     plt.show()\n",
    "\n",
    "# accuracy_plot(svc_y_r, svc_l_r, 'SVC Random', svc_bench_acc)\n",
    "# accuracy_plot(svc_y_u, svc_l_u, 'SVC Uncertainty', svc_bench_acc)\n",
    "# accuracy_plot(lsvc_y, lsvc_l, 'LinearSVC', lsvc_bench_acc)\n",
    "# accuracy_plot(sgd_y_r, sgd_l_r, 'SGD Random', sgd_bench_acc)\n",
    "# accuracy_plot(sgd_y_u, sgd_l_u, 'SGD Uncertainty', sgd_bench_acc)\n",
    "\n",
    "# # def get_accuracy_plots():\n",
    "# #     for alg in SUPPORTED_ALGS:\n",
    "# #         accuracy_plot(basic_results[i][:2], basic_titles[i])\n",
    "        \n",
    "# # get_accuracy_plots()\n"
   ]
  },
  {
   "cell_type": "code",
   "execution_count": 16,
   "metadata": {},
   "outputs": [],
   "source": [
    "# result_list = [active_cluster_sampled_results]\n",
    "# label_list = ['Clustered']\n",
    "# sgd_c_results = get_new_results('sgd')\n",
    "# sgd_c_y, sgd_c_l = get_plottable_results(sgd_c_results)\n",
    "\n",
    "# # def accuracy_plot_c(y, labels, title, benchmark, save=False):\n",
    "    \n",
    "# #     # x = [i * (50//NUM_CLUSTERS) + 5 for i in range(len(y[0]))]\n",
    "# #     # x = [i * (50//4) + 5 for i in range(len(y[0]))]\n",
    "# #     x = [i + 5 for i in range(len(y[0]))]\n",
    " \n",
    "# #     for i in range(len(y)):\n",
    "# #         plt.plot(x, y[i], '--' if i % 2 == 0 else '-', label=labels[i])\n",
    "# #     plt.plot(x, [benchmark for i in range(len(y[0]))], '-', label='Benchmark', color='black')\n",
    "# #     plt.legend()\n",
    "# #     plt.title(title)\n",
    "# #     plt.xlabel('# Training Instances')\n",
    "# #     plt.ylabel('Accuracy')\n",
    "# #     plt.axis([5, 5+len(y[0]), 0, 1.0])\n",
    "# #     plt.axes().yaxis.set_major_formatter(mtick.PercentFormatter(1.0))\n",
    "# #     if save: plt.savefig('plots/' + str(NUM_CLUSTERS) + '_' + title.replace(' ', '_') + '.png')\n",
    "# #     plt.show()\n",
    "\n",
    "# accuracy_plot_c(sgd_c_y, sgd_c_l, 'SGD Cluster Sampling', sgd_bench_acc)"
   ]
  },
  {
   "cell_type": "code",
   "execution_count": 17,
   "metadata": {},
   "outputs": [],
   "source": [
    "# TODO\n",
    "# Add benchmark accuracy to all plots\n",
    "# Try some more cluster numbers\n",
    "# write report"
   ]
  },
  {
   "cell_type": "code",
   "execution_count": null,
   "metadata": {},
   "outputs": [],
   "source": []
  }
 ],
 "metadata": {
  "kernelspec": {
   "display_name": "Python 3",
   "language": "python",
   "name": "python3"
  },
  "language_info": {
   "codemirror_mode": {
    "name": "ipython",
    "version": 3
   },
   "file_extension": ".py",
   "mimetype": "text/x-python",
   "name": "python",
   "nbconvert_exporter": "python",
   "pygments_lexer": "ipython3",
   "version": "3.5.3"
  }
 },
 "nbformat": 4,
 "nbformat_minor": 2
}
