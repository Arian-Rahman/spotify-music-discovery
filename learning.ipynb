{
 "cells": [
  {
   "cell_type": "markdown",
   "metadata": {},
   "source": [
    "This is where the metadata, feature space, and genres are read in and stored in the \"songs\" dictionary by `track_id`."
   ]
  },
  {
   "cell_type": "code",
   "execution_count": 1,
   "metadata": {},
   "outputs": [],
   "source": [
    "from pkg.spotifyclassifier import *\n",
    "from pkg.run import *\n",
    "from pkg.wrangling import *\n",
    "from pkg.classify import *\n",
    "from pkg.constants import LABEL_LIST"
   ]
  },
  {
   "cell_type": "code",
   "execution_count": 2,
   "metadata": {},
   "outputs": [
    {
     "data": {
      "application/vnd.jupyter.widget-view+json": {
       "model_id": "4f8ee848597d41868f461b99b459472e",
       "version_major": 2,
       "version_minor": 0
      },
      "text/plain": [
       "HBox(children=(IntProgress(value=1, bar_style='info', description='Reading data from .csv...', max=1, style=Pr…"
      ]
     },
     "metadata": {},
     "output_type": "display_data"
    },
    {
     "name": "stdout",
     "output_type": "stream",
     "text": [
      "\n",
      "Song data reading complete.\n"
     ]
    }
   ],
   "source": [
    "default_song_data = FrozenMap(read_data('data/data.csv', True))\n",
    "print('Song data reading complete.')"
   ]
  },
  {
   "cell_type": "code",
   "execution_count": 3,
   "metadata": {},
   "outputs": [],
   "source": [
    "default_feature_names = tuple(next(iter(default_song_data.values()))['features'].keys())"
   ]
  },
  {
   "cell_type": "code",
   "execution_count": 4,
   "metadata": {},
   "outputs": [
    {
     "name": "stdout",
     "output_type": "stream",
     "text": [
      " likes: 1919 \n",
      " dislikes: 3789\n"
     ]
    }
   ],
   "source": [
    "# Sanity check\n",
    "sanity_check(default_song_data)"
   ]
  },
  {
   "cell_type": "code",
   "execution_count": 5,
   "metadata": {},
   "outputs": [
    {
     "name": "stdout",
     "output_type": "stream",
     "text": [
      "2 2584.0743098644616\n",
      "3 2183.5186420117248\n",
      "4 1889.9301279956076\n",
      "5 1764.8646180219816\n",
      "6 1646.4113953003848\n",
      "7 1562.665760849036\n",
      "8 1494.2636323632257\n",
      "9 1426.997845987963\n",
      "10 1386.0841289836212\n"
     ]
    }
   ],
   "source": [
    "test_cluster_size(default_song_data, 10)"
   ]
  },
  {
   "cell_type": "code",
   "execution_count": 6,
   "metadata": {},
   "outputs": [],
   "source": [
    "clustered_song_data, songs_by_cluster = {}, {}\n",
    "clustered_song_data, songs_by_cluster = get_kmeans_clusters(default_song_data, NUM_CLUSTERS)"
   ]
  },
  {
   "cell_type": "code",
   "execution_count": 7,
   "metadata": {},
   "outputs": [],
   "source": [
    "if set(next(iter(default_song_data.values()))['features'].keys()) == set(next(iter(clustered_song_data.values()))['features'].keys()):\n",
    "    raise ValueError('Default features messed up.')"
   ]
  },
  {
   "cell_type": "code",
   "execution_count": 8,
   "metadata": {},
   "outputs": [],
   "source": [
    "default_training_data, default_validation_data, clustered_training_data, clustered_validation_data = get_experiment_split(default_song_data, clustered_song_data)\n",
    "training_clusters = get_train_clusters(clustered_training_data, songs_by_cluster[NUM_CLUSTERS])"
   ]
  },
  {
   "cell_type": "code",
   "execution_count": 9,
   "metadata": {},
   "outputs": [
    {
     "name": "stdout",
     "output_type": "stream",
     "text": [
      "----\n",
      "Unclustered\n",
      "----\n",
      "svc accs w/ random\n",
      "67.65\t67.65\t67.65\t67.65\t67.65\t67.65\t67.65\t67.65\t67.65\t67.65\t67.65\t67.65\t67.65\t67.65\t67.65\t67.65\t67.65\t67.65\t67.65\t67.65\t67.65\t67.65\t67.65\t67.65\t67.65\t67.65\t67.65\t67.74\t67.65\t67.65\t67.65\t67.65\t67.65\t67.65\t67.65\t67.65\t69.32\t68.36\t68.44\t68.01\t73.09\t79.49\t79.49\t83.61\t82.82\t82.38\t82.38\t82.38\t82.29\t82.29\t82.47\t76.16\t76.16\t82.12\t83.78\t83.78\t83.78\t83.52\t83.52\t83.52\t85.18\t85.18\t85.18\t85.1\t85.97\t85.97\t85.97\t85.97\t85.8\t85.8\t85.97\t85.97\t86.5\t86.5\t86.5\t86.5\t86.59\t86.59\t86.67\t86.76\t86.76\t86.85\t86.85\t86.85\t86.85\t86.85\t86.94\t86.94\t86.94\t87.02\t87.02\t87.02\t86.94\t86.94\t86.94\t86.94\t86.94\t87.02\t87.02\t87.02\t87.02\t\n",
      "svc accs w/ uncertainty\n",
      "67.65\t67.65\t67.65\t67.65\t67.65\t67.65\t67.65\t67.65\t67.65\t67.65\t67.65\t67.65\t67.65\t67.65\t67.65\t67.65\t67.65\t67.65\t67.65\t67.65\t67.65\t67.65\t67.65\t67.65\t67.65\t67.65\t67.65\t67.65\t67.65\t67.65\t67.65\t67.65\t67.65\t67.65\t67.65\t67.65\t67.74\t67.65\t67.57\t67.57\t67.65\t72.04\t72.04\t73.7\t73.7\t73.7\t73.7\t81.77\t81.59\t81.59\t81.59\t81.85\t81.59\t81.41\t81.77\t81.59\t81.59\t81.68\t81.68\t84.13\t85.1\t84.66\t84.66\t84.66\t84.66\t84.66\t84.66\t85.71\t85.71\t85.71\t85.71\t85.71\t85.71\t85.71\t85.71\t85.62\t85.62\t85.62\t85.62\t85.62\t85.62\t85.97\t85.97\t85.88\t85.88\t85.88\t85.71\t85.71\t85.71\t85.71\t85.71\t85.71\t85.71\t85.71\t86.06\t86.32\t86.41\t86.41\t86.41\t86.41\t86.41\t\n"
     ]
    },
    {
     "name": "stderr",
     "output_type": "stream",
     "text": [
      "/Users/adi/repos/spotify-music-discovery/venv/lib/python3.5/site-packages/sklearn/svm/base.py:931: ConvergenceWarning: Liblinear failed to converge, increase the number of iterations.\n",
      "  \"the number of iterations.\", ConvergenceWarning)\n"
     ]
    },
    {
     "name": "stdout",
     "output_type": "stream",
     "text": [
      "lsvc accs w/ random\n",
      "67.57\t67.65\t67.65\t67.65\t67.65\t68.18\t67.65\t85.88\t87.29\t87.29\t87.37\t87.37\t87.29\t87.2\t87.11\t87.2\t87.2\t87.11\t87.11\t87.11\t87.11\t87.2\t87.2\t87.2\t87.29\t87.29\t87.29\t87.29\t87.29\t87.2\t87.29\t87.29\t87.37\t87.29\t87.29\t87.37\t87.29\t87.46\t87.73\t87.73\t87.73\t87.73\t87.73\t87.73\t87.81\t87.2\t87.55\t87.55\t87.55\t87.55\t87.55\t87.55\t87.55\t87.55\t87.55\t87.55\t87.55\t87.64\t87.64\t87.73\t87.73\t87.73\t87.81\t87.73\t87.73\t87.73\t87.73\t87.73\t87.73\t87.73\t87.73\t87.73\t87.73\t87.73\t87.81\t87.81\t87.81\t87.81\t87.73\t87.81\t87.81\t87.81\t87.81\t87.81\t87.73\t87.81\t87.81\t87.81\t87.81\t87.81\t87.81\t87.73\t87.81\t87.9\t87.9\t87.9\t87.9\t87.9\t87.9\t87.99\t87.9\t\n",
      "lsvc accs w/ uncertainty\n",
      "46.27\t46.18\t88.34\t87.2\t87.11\t86.94\t86.94\t86.94\t86.94\t86.94\t86.94\t86.94\t86.85\t87.37\t87.37\t87.37\t87.46\t87.46\t87.46\t87.46\t87.55\t87.55\t87.55\t87.37\t87.29\t87.11\t87.11\t87.11\t87.11\t87.11\t87.11\t87.29\t87.29\t87.29\t87.29\t87.2\t87.2\t87.2\t87.2\t87.11\t87.11\t87.11\t87.29\t87.2\t87.29\t87.37\t87.37\t87.29\t87.46\t87.46\t87.46\t87.29\t87.37\t87.37\t87.37\t87.73\t87.73\t87.73\t87.73\t87.73\t87.73\t87.64\t87.64\t87.73\t87.73\t87.73\t87.73\t87.73\t87.73\t87.73\t87.73\t87.64\t87.64\t87.64\t87.64\t87.64\t87.64\t87.64\t87.64\t87.55\t87.55\t87.64\t87.2\t87.2\t87.2\t87.2\t87.2\t87.81\t87.73\t87.2\t87.2\t87.2\t87.2\t87.29\t87.29\t87.29\t87.46\t87.55\t87.37\t87.37\t87.37\t\n",
      "sgd accs w/ random\n",
      "32.51\t67.65\t40.05\t67.65\t49.95\t49.95\t67.65\t80.1\t80.1\t67.65\t85.88\t34.44\t34.44\t34.44\t85.27\t85.27\t39.35\t82.73\t82.73\t82.73\t58.98\t58.98\t58.98\t85.97\t85.97\t85.97\t85.97\t85.97\t85.97\t85.97\t85.97\t52.23\t85.01\t85.01\t67.57\t67.57\t67.57\t86.94\t86.94\t63.89\t63.89\t63.89\t63.89\t87.29\t87.29\t87.29\t87.29\t87.29\t39.61\t87.11\t87.11\t45.04\t86.76\t68.01\t68.01\t68.01\t68.01\t68.01\t68.01\t68.01\t68.01\t68.01\t68.01\t68.01\t68.01\t68.01\t68.01\t86.32\t86.32\t86.32\t86.32\t86.32\t86.32\t46.36\t84.75\t53.81\t84.75\t84.75\t84.75\t63.27\t84.22\t84.22\t48.2\t84.39\t48.2\t48.2\t48.2\t84.22\t84.22\t84.22\t84.22\t84.22\t54.25\t83.26\t83.26\t83.26\t83.26\t83.26\t83.26\t83.26\t83.26\t\n",
      "sgd accs w/ uncertainty\n",
      "37.33\t67.65\t87.73\t87.73\t87.73\t87.73\t32.34\t32.34\t87.73\t87.73\t32.34\t87.02\t87.02\t32.34\t84.04\t84.04\t84.04\t84.04\t84.04\t84.04\t84.04\t32.42\t86.94\t86.94\t86.94\t32.77\t88.08\t88.08\t88.08\t88.08\t88.08\t88.08\t88.08\t88.08\t88.08\t88.08\t88.08\t88.08\t88.08\t88.08\t88.08\t88.08\t88.08\t88.08\t88.08\t88.08\t88.08\t88.08\t32.42\t84.22\t84.22\t84.22\t84.22\t84.22\t84.22\t84.22\t84.22\t84.22\t84.22\t84.22\t84.22\t84.22\t84.22\t32.34\t74.23\t79.14\t76.42\t75.63\t75.63\t75.63\t87.9\t87.9\t87.9\t87.9\t87.9\t82.64\t82.64\t82.64\t82.64\t82.64\t82.64\t82.64\t82.64\t82.03\t82.03\t82.03\t82.03\t82.03\t32.42\t32.42\t32.42\t32.42\t32.42\t32.42\t83.17\t83.17\t83.17\t83.17\t83.17\t83.17\t83.17\t\n"
     ]
    }
   ],
   "source": [
    "print('----\\nUnclustered\\n----')\n",
    "active_unclustered_results = run_active_suite(default_song_data, default_training_data, default_validation_data, SUPPORTED_ALGS, AL_STRATS)"
   ]
  },
  {
   "cell_type": "code",
   "execution_count": 10,
   "metadata": {},
   "outputs": [
    {
     "name": "stdout",
     "output_type": "stream",
     "text": [
      "----\n",
      "Clustered\n",
      "----\n",
      "svc accs w/ random\n",
      "67.65\t67.65\t67.65\t67.65\t67.65\t67.65\t67.65\t67.65\t67.65\t67.65\t67.65\t67.65\t67.65\t67.65\t67.65\t67.65\t67.65\t67.65\t67.65\t67.65\t67.65\t67.65\t67.65\t67.65\t67.65\t67.65\t67.65\t67.65\t67.65\t67.65\t67.65\t67.65\t67.65\t68.36\t74.32\t72.65\t79.14\t83.34\t85.36\t85.8\t86.24\t85.97\t86.24\t86.5\t86.5\t86.5\t86.41\t86.41\t86.41\t86.76\t86.76\t86.94\t87.2\t87.37\t87.11\t87.2\t87.2\t87.11\t87.11\t87.11\t87.11\t87.11\t87.11\t87.11\t87.29\t87.29\t87.29\t87.29\t87.29\t87.29\t87.37\t87.2\t87.29\t87.2\t87.2\t87.2\t87.29\t87.2\t87.29\t87.29\t87.29\t87.29\t87.29\t87.2\t87.2\t87.29\t87.2\t87.2\t87.2\t87.2\t87.2\t87.2\t87.2\t87.2\t87.2\t87.2\t87.2\t87.2\t87.2\t87.2\t87.2\t\n",
      "svc accs w/ uncertainty\n",
      "67.65\t67.65\t67.65\t67.65\t67.65\t80.54\t32.34\t32.34\t32.34\t32.34\t32.34\t32.34\t32.34\t32.34\t32.34\t74.14\t32.34\t32.34\t32.34\t85.71\t67.65\t87.9\t67.65\t67.65\t67.65\t67.65\t67.65\t67.65\t67.65\t67.65\t67.65\t67.65\t67.65\t67.65\t67.65\t67.65\t67.65\t67.65\t67.65\t73.26\t81.77\t83.08\t82.38\t83.34\t82.82\t82.29\t81.68\t80.36\t78.87\t78.87\t78.87\t79.75\t84.13\t85.01\t85.71\t86.32\t86.59\t86.94\t86.94\t87.11\t87.11\t87.29\t87.29\t87.29\t87.29\t87.29\t87.29\t87.2\t87.29\t87.46\t87.46\t87.55\t87.55\t87.46\t87.55\t87.55\t87.46\t87.46\t87.46\t87.46\t87.46\t87.46\t87.46\t87.46\t87.37\t87.37\t87.37\t87.37\t87.46\t87.46\t87.46\t87.46\t87.46\t87.46\t87.46\t87.37\t87.37\t87.37\t87.46\t87.46\t87.37\t\n",
      "lsvc accs w/ random\n",
      "80.1\t79.57\t80.1\t77.12\t77.12\t77.12\t83.61\t83.61\t83.61\t84.13\t82.9\t83.08\t83.43\t86.85\t87.55\t87.29\t87.37\t87.73\t87.73\t87.73\t87.64\t87.55\t87.73\t87.55\t87.55\t87.64\t87.55\t87.55\t87.37\t87.55\t87.55\t87.55\t87.46\t87.46\t87.37\t87.37\t87.37\t87.37\t87.37\t87.37\t87.55\t87.55\t87.73\t87.73\t87.55\t87.55\t87.46\t87.46\t87.46\t87.46\t87.37\t87.37\t87.29\t87.29\t87.29\t87.29\t87.2\t87.2\t87.2\t87.2\t87.37\t87.37\t87.37\t87.37\t87.37\t87.37\t87.37\t87.37\t87.29\t87.29\t87.29\t87.29\t87.29\t87.37\t87.37\t87.37\t87.29\t87.37\t87.11\t87.11\t87.37\t87.37\t87.37\t87.37\t87.46\t87.37\t87.46\t87.29\t87.29\t87.29\t87.37\t87.37\t87.37\t87.37\t87.37\t87.46\t87.46\t87.55\t87.55\t87.55\t87.46\t\n",
      "lsvc accs w/ uncertainty\n",
      "86.94\t86.94\t86.76\t86.24\t84.48\t84.48\t84.66\t87.2\t87.2\t85.97\t85.97\t85.62\t84.75\t84.75\t83.78\t84.13\t84.13\t84.75\t86.5\t85.53\t86.06\t87.37\t87.37\t87.37\t86.94\t87.29\t87.29\t87.46\t87.29\t87.29\t87.29\t87.29\t87.55\t87.55\t87.73\t87.73\t87.73\t87.73\t87.29\t87.29\t87.64\t87.81\t87.81\t87.81\t87.81\t87.81\t87.73\t87.73\t87.73\t87.73\t87.73\t87.73\t87.73\t87.81\t87.81\t87.81\t87.64\t87.64\t87.64\t87.64\t87.64\t87.73\t87.73\t87.81\t87.81\t87.81\t87.81\t87.81\t87.81\t87.81\t87.81\t87.73\t88.16\t88.16\t88.16\t88.16\t88.16\t88.16\t88.16\t87.9\t87.9\t87.9\t87.9\t87.9\t87.9\t87.9\t87.9\t88.08\t87.99\t87.99\t87.99\t87.99\t87.9\t87.99\t87.99\t87.99\t87.99\t87.99\t87.99\t87.9\t88.08\t\n",
      "sgd accs w/ random\n",
      "67.92\t67.92\t67.92\t67.92\t32.25\t72.48\t72.48\t38.38\t75.63\t62.4\t62.4\t62.4\t77.47\t77.47\t77.47\t77.47\t77.47\t62.4\t62.4\t76.59\t76.59\t76.59\t76.59\t76.59\t76.59\t78.61\t78.61\t78.61\t78.26\t78.26\t78.26\t78.26\t78.26\t78.26\t78.26\t78.26\t78.26\t78.26\t78.26\t78.26\t82.82\t82.82\t32.34\t32.34\t65.73\t83.52\t82.82\t82.82\t82.82\t82.82\t82.82\t82.82\t82.82\t85.01\t56.79\t84.48\t84.48\t84.48\t84.48\t84.48\t84.48\t84.48\t84.48\t84.48\t84.48\t84.48\t84.48\t84.48\t63.89\t63.89\t86.67\t86.67\t86.67\t86.67\t86.67\t86.67\t86.67\t86.67\t86.67\t86.67\t86.67\t86.67\t86.67\t36.72\t36.72\t36.72\t36.72\t36.72\t86.67\t86.67\t86.67\t86.67\t86.67\t86.67\t86.67\t86.67\t86.67\t86.67\t86.67\t86.67\t35.58\t\n",
      "sgd accs w/ uncertainty\n",
      "86.06\t86.06\t86.06\t86.06\t32.34\t32.34\t41.98\t67.65\t54.95\t54.95\t67.65\t67.65\t67.65\t67.65\t37.51\t37.51\t37.51\t80.98\t80.98\t80.98\t67.65\t67.65\t67.65\t67.65\t83.61\t38.29\t80.54\t80.54\t80.54\t80.54\t38.03\t77.82\t51.35\t51.35\t75.72\t75.72\t75.72\t75.72\t75.72\t67.65\t67.65\t67.65\t67.65\t67.65\t78.61\t50.48\t76.51\t76.51\t76.51\t76.51\t76.51\t76.51\t76.51\t76.51\t85.97\t85.97\t81.77\t81.59\t81.59\t81.59\t81.59\t81.59\t81.59\t81.59\t81.59\t81.59\t81.59\t81.59\t81.59\t81.59\t81.59\t81.59\t81.59\t81.59\t84.22\t84.22\t84.22\t84.22\t84.22\t84.31\t84.31\t84.31\t84.31\t84.22\t84.22\t84.22\t84.22\t87.46\t32.42\t86.5\t86.5\t34.96\t34.96\t87.55\t87.55\t87.55\t34.79\t34.79\t88.34\t88.34\t88.34\t\n"
     ]
    }
   ],
   "source": [
    "print('----\\nClustered\\n----')\n",
    "active_clustered_results = run_active_suite(default_song_data, clustered_training_data, clustered_validation_data, SUPPORTED_ALGS, AL_STRATS)"
   ]
  },
  {
   "cell_type": "code",
   "execution_count": 11,
   "metadata": {},
   "outputs": [
    {
     "name": "stdout",
     "output_type": "stream",
     "text": [
      "\n",
      "----\n",
      "Clustered w/ Cluster Sampling\n",
      "----\n",
      "sgd accs w/ random\n",
      "76.68\t67.65\t88.08\t88.08\t88.08\t88.08\t67.65\t73.88\t82.12\t72.83\t78.79\t78.79\t78.79\t88.95\t84.39\t88.86\t88.86\t88.16\t88.16\t33.56\t37.59\t88.43\t88.43\t34.0\t88.78\t88.78\t\n",
      "sgd accs w/ uncertainty\n",
      "67.65\t67.65\t33.56\t33.56\t85.1\t85.53\t62.83\t62.22\t81.59\t71.34\t69.06\t73.79\t84.83\t84.83\t84.83\t84.83\t84.83\t67.65\t84.92\t84.92\t83.17\t67.65\t84.66\t84.66\t84.66\t81.59\t\n"
     ]
    }
   ],
   "source": [
    "print('\\n----\\nClustered w/ Cluster Sampling\\n----')\n",
    "active_cluster_sampled_results = run_clusters_suite(default_song_data, clustered_training_data, clustered_validation_data, training_clusters)"
   ]
  },
  {
   "cell_type": "code",
   "execution_count": 12,
   "metadata": {
    "scrolled": false
   },
   "outputs": [
    {
     "name": "stderr",
     "output_type": "stream",
     "text": [
      "/Users/adi/repos/spotify-music-discovery/venv/lib/python3.5/site-packages/sklearn/linear_model/stochastic_gradient.py:166: FutureWarning: max_iter and tol parameters have been added in SGDClassifier in 0.19. If both are left unset, they default to max_iter=5 and tol=None. If tol is not None, max_iter defaults to max_iter=1000. From 0.21, default max_iter will be 1000, and default tol will be 1e-3.\n",
      "  FutureWarning)\n"
     ]
    }
   ],
   "source": [
    "best_classifier = get_highest_benchmark(\n",
    "    default_song_data,\n",
    "    default_training_data,\n",
    "    default_validation_data,\n",
    "    clustered_training_data,\n",
    "    clustered_validation_data\n",
    ")"
   ]
  },
  {
   "cell_type": "code",
   "execution_count": 13,
   "metadata": {},
   "outputs": [
    {
     "data": {
      "application/vnd.jupyter.widget-view+json": {
       "model_id": "4e36ec213f764123bfad36f0811dbbfd",
       "version_major": 2,
       "version_minor": 0
      },
      "text/plain": [
       "HBox(children=(IntProgress(value=0, description='Finding playlist \"to DL\"...', max=50, style=ProgressStyle(des…"
      ]
     },
     "metadata": {},
     "output_type": "display_data"
    },
    {
     "name": "stdout",
     "output_type": "stream",
     "text": [
      "\n"
     ]
    },
    {
     "data": {
      "application/vnd.jupyter.widget-view+json": {
       "model_id": "49ae93e08080460788b49783f087fa62",
       "version_major": 2,
       "version_minor": 0
      },
      "text/plain": [
       "HBox(children=(IntProgress(value=0, description='Saving playlist data...', max=36, style=ProgressStyle(descrip…"
      ]
     },
     "metadata": {},
     "output_type": "display_data"
    },
    {
     "name": "stdout",
     "output_type": "stream",
     "text": [
      "\n"
     ]
    },
    {
     "data": {
      "application/vnd.jupyter.widget-view+json": {
       "model_id": "00342b1223794d6595de0ab934e4085b",
       "version_major": 2,
       "version_minor": 0
      },
      "text/plain": [
       "HBox(children=(IntProgress(value=0, description='Downloading audio features...', max=1, style=ProgressStyle(de…"
      ]
     },
     "metadata": {},
     "output_type": "display_data"
    },
    {
     "name": "stdout",
     "output_type": "stream",
     "text": [
      "\n"
     ]
    },
    {
     "data": {
      "application/vnd.jupyter.widget-view+json": {
       "model_id": "7cfe646c883a48fa91fc43f49ba4832b",
       "version_major": 2,
       "version_minor": 0
      },
      "text/plain": [
       "HBox(children=(IntProgress(value=0, description='Parsing track features...', max=36, style=ProgressStyle(descr…"
      ]
     },
     "metadata": {},
     "output_type": "display_data"
    },
    {
     "name": "stdout",
     "output_type": "stream",
     "text": [
      "\n"
     ]
    },
    {
     "data": {
      "application/vnd.jupyter.widget-view+json": {
       "model_id": "2dbf7548733d4020851418f2a83dc084",
       "version_major": 2,
       "version_minor": 0
      },
      "text/plain": [
       "HBox(children=(IntProgress(value=0, description='Parsing artist data...', max=36, style=ProgressStyle(descript…"
      ]
     },
     "metadata": {},
     "output_type": "display_data"
    },
    {
     "name": "stdout",
     "output_type": "stream",
     "text": [
      "\n"
     ]
    },
    {
     "data": {
      "application/vnd.jupyter.widget-view+json": {
       "model_id": "b01ae4d2016d4a7a8bb691d772b88e15",
       "version_major": 2,
       "version_minor": 0
      },
      "text/plain": [
       "HBox(children=(IntProgress(value=0, description='Building final dataframe...', max=36, style=ProgressStyle(des…"
      ]
     },
     "metadata": {},
     "output_type": "display_data"
    },
    {
     "name": "stdout",
     "output_type": "stream",
     "text": [
      "\n"
     ]
    },
    {
     "name": "stderr",
     "output_type": "stream",
     "text": [
      "/Users/adi/repos/spotify-music-discovery/venv/lib/python3.5/site-packages/sklearn/preprocessing/data.py:334: DataConversionWarning: Data with input dtype float64, object were all converted to float64 by MinMaxScaler.\n",
      "  return self.partial_fit(X, y)\n"
     ]
    },
    {
     "data": {
      "application/vnd.jupyter.widget-view+json": {
       "model_id": "823ae7db78c2413283ae476fb142fa0b",
       "version_major": 2,
       "version_minor": 0
      },
      "text/plain": [
       "HBox(children=(IntProgress(value=1, bar_style='info', description='Reading data from .csv...', max=1, style=Pr…"
      ]
     },
     "metadata": {},
     "output_type": "display_data"
    },
    {
     "name": "stdout",
     "output_type": "stream",
     "text": [
      "\n",
      "The given classifier thinks you'd like the following from the given playlist:\n",
      "\n",
      "Birthday Card\n",
      "Mathilda (Structure 1)\n",
      "Shadow Harp\n",
      "There's a Truth\n",
      "Kitchen Blade\n",
      "Never Alone - Extended Mix (Mixed)\n",
      "Chromos\n",
      "Adome Nyueto - Bosq Edit\n",
      "Sun Devilz\n",
      "Frontiers\n",
      "Myrtle Avenue\n",
      "Time Blur\n",
      "Nitrous & Oxide\n",
      "Gillie Amma I Love You\n",
      "Broken Bossa\n",
      "No\n",
      "Acid Test\n",
      "Moods\n",
      "Master Funk\n",
      "Monik\n",
      "Not Used to Love\n",
      "Bronson\n",
      "Matryoshka\n",
      "Blow by Blow\n",
      "From A Distance\n",
      "Got Me Coming Back Rite Now\n",
      "Sun In Your Eyes\n",
      "Wildflowers\n",
      "Moment\n",
      "003A2\n",
      "Orange Blank\n",
      "Never Grow Old - Mark Broom Dubplate Mix\n",
      "The Gloves Don't Bite - Mount Liberation Unlimited's Re-edit for The Dancefloor\n",
      "Escape From Yourself\n",
      "Roach Fingers\n",
      "ARP3\n",
      "\n"
     ]
    }
   ],
   "source": [
    "classify_playlist('to DL', best_classifier)"
   ]
  },
  {
   "cell_type": "code",
   "execution_count": null,
   "metadata": {},
   "outputs": [],
   "source": []
  }
 ],
 "metadata": {
  "kernelspec": {
   "display_name": "Python 3",
   "language": "python",
   "name": "python3"
  },
  "language_info": {
   "codemirror_mode": {
    "name": "ipython",
    "version": 3
   },
   "file_extension": ".py",
   "mimetype": "text/x-python",
   "name": "python",
   "nbconvert_exporter": "python",
   "pygments_lexer": "ipython3",
   "version": "3.5.3"
  }
 },
 "nbformat": 4,
 "nbformat_minor": 2
}
