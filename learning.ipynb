{
 "cells": [
  {
   "cell_type": "markdown",
   "metadata": {},
   "source": [
    "This is where the metadata, feature space, and genres are read in and stored in the \"songs\" dictionary by `track_id`."
   ]
  },
  {
   "cell_type": "code",
   "execution_count": 1,
   "metadata": {},
   "outputs": [],
   "source": [
    "from pkg.pickclassifier import *\n",
    "from pkg.graphs import *\n",
    "from pkg.run import *\n",
    "from pkg.wrangling import *"
   ]
  },
  {
   "cell_type": "code",
   "execution_count": 2,
   "metadata": {},
   "outputs": [],
   "source": [
    "default_song_data = FrozenMap(read_data('data/data.csv'))\n",
    "genres = FrozenMap(read_genres('data/data.csv'))\n",
    "default_feature_names = tuple(next(iter(default_song_data.values()))['features'].keys())"
   ]
  },
  {
   "cell_type": "code",
   "execution_count": 3,
   "metadata": {},
   "outputs": [
    {
     "name": "stdout",
     "output_type": "stream",
     "text": [
      " likes: 1919 \n",
      " dislikes: 3790\n"
     ]
    }
   ],
   "source": [
    "# Sanity check\n",
    "l, dl = 0, 0\n",
    "for x in default_song_data.values():\n",
    "    if x['label'] == 1: l += 1\n",
    "    else: dl += 1\n",
    "print(' likes:', l, '\\n', 'dislikes:', dl)"
   ]
  },
  {
   "cell_type": "code",
   "execution_count": 4,
   "metadata": {},
   "outputs": [
    {
     "name": "stdout",
     "output_type": "stream",
     "text": [
      "2 3123.394736313186\n",
      "3 2481.7166322571657\n",
      "4 2152.0676519930576\n",
      "5 1944.1607350212319\n",
      "6 1824.5366017616984\n",
      "7 1711.4629417283002\n",
      "8 1612.5958251709212\n",
      "9 1536.3064510346342\n",
      "10 1474.2490715214612\n"
     ]
    }
   ],
   "source": [
    "test_cluster_size(default_song_data, 10)"
   ]
  },
  {
   "cell_type": "code",
   "execution_count": 5,
   "metadata": {},
   "outputs": [],
   "source": [
    "clustered_song_data, songs_by_cluster = {}, {}\n",
    "clustered_song_data, songs_by_cluster = get_kmeans_clusters(default_song_data, NUM_CLUSTERS)"
   ]
  },
  {
   "cell_type": "code",
   "execution_count": 6,
   "metadata": {},
   "outputs": [],
   "source": [
    "if set(next(iter(default_song_data.values()))['features'].keys()) == set(next(iter(clustered_song_data.values()))['features'].keys()):\n",
    "    raise ValueError('Default features messed up.')"
   ]
  },
  {
   "cell_type": "code",
   "execution_count": 7,
   "metadata": {},
   "outputs": [],
   "source": [
    "default_training_data, default_validation_data, clustered_training_data, clustered_validation_data = get_experiment_split(default_song_data, clustered_song_data)\n",
    "training_clusters = get_train_clusters(clustered_training_data, songs_by_cluster[NUM_CLUSTERS])"
   ]
  },
  {
   "cell_type": "code",
   "execution_count": 8,
   "metadata": {},
   "outputs": [
    {
     "name": "stdout",
     "output_type": "stream",
     "text": [
      "----\n",
      "Unclustered\n",
      "----\n",
      "101\n",
      "svc accs w/ random\n",
      "66.69\t66.69\t66.69\t66.69\t66.69\t66.69\t66.69\t66.69\t66.69\t66.69\t66.69\t66.69\t66.69\t66.69\t66.69\t66.69\t66.69\t66.69\t66.69\t66.69\t66.69\t66.69\t66.69\t66.69\t66.69\t66.69\t66.69\t66.69\t66.69\t66.69\t66.69\t66.69\t66.69\t66.69\t66.69\t66.69\t66.69\t66.69\t66.69\t66.69\t66.69\t66.69\t66.69\t66.69\t66.69\t66.69\t66.69\t66.69\t66.69\t66.69\t66.69\t66.69\t66.69\t66.69\t66.69\t66.69\t66.69\t66.69\t66.69\t66.69\t66.69\t66.69\t66.69\t66.69\t66.69\t66.69\t66.69\t66.69\t66.69\t66.69\t66.69\t66.69\t66.69\t66.69\t66.69\t66.69\t66.69\t66.69\t66.69\t66.69\t66.69\t66.69\t66.69\t66.69\t66.69\t66.69\t66.69\t66.69\t66.69\t66.69\t66.69\t66.69\t66.69\t66.69\t66.69\t66.69\t66.69\t66.69\t66.69\t66.69\t66.69\t\n",
      "101\n",
      "svc accs w/ uncertainty\n",
      "33.3\t78.08\t33.3\t66.17\t33.3\t33.3\t33.3\t70.81\t33.3\t70.02\t66.69\t66.69\t66.69\t66.69\t66.69\t66.69\t66.69\t66.69\t66.69\t66.69\t66.69\t66.69\t66.69\t66.69\t66.69\t66.69\t66.69\t66.69\t66.69\t66.69\t66.69\t66.69\t66.69\t66.69\t66.69\t66.69\t66.69\t66.69\t66.69\t66.69\t66.69\t66.69\t66.69\t66.69\t66.69\t66.69\t66.69\t66.69\t66.69\t66.69\t66.69\t66.69\t66.69\t66.69\t66.69\t66.69\t66.69\t66.69\t66.69\t66.69\t66.69\t66.69\t66.69\t66.69\t66.69\t66.69\t66.69\t66.69\t66.69\t66.69\t66.69\t66.69\t66.69\t66.69\t66.69\t66.69\t66.69\t66.69\t66.69\t66.69\t66.69\t66.69\t66.69\t66.69\t66.69\t66.69\t66.69\t66.69\t66.69\t66.69\t66.69\t66.69\t66.69\t66.69\t66.69\t66.69\t66.69\t66.69\t66.69\t66.69\t66.69\t\n",
      "101\n",
      "lsvc accs w/ random\n",
      "66.87\t83.87\t84.13\t87.02\t87.64\t87.9\t87.55\t87.73\t87.9\t87.64\t87.73\t87.73\t87.11\t86.85\t86.94\t86.94\t86.94\t86.85\t86.85\t86.85\t86.85\t86.85\t86.94\t86.85\t86.85\t86.76\t86.94\t87.11\t87.11\t87.02\t87.02\t87.02\t87.02\t87.11\t87.37\t87.55\t87.55\t87.64\t87.55\t87.73\t87.73\t87.73\t87.73\t87.73\t87.73\t87.73\t87.81\t87.81\t87.81\t87.81\t87.73\t87.73\t87.2\t86.59\t86.59\t86.59\t86.67\t86.59\t87.02\t87.02\t86.85\t86.85\t86.85\t87.02\t86.94\t86.94\t86.94\t86.94\t86.94\t87.02\t87.2\t87.2\t87.2\t87.2\t87.2\t87.2\t87.2\t87.2\t87.02\t87.02\t87.02\t87.02\t87.02\t87.02\t87.02\t87.2\t87.2\t87.29\t87.29\t87.29\t87.2\t87.2\t87.55\t87.55\t87.11\t87.02\t87.02\t87.02\t87.02\t87.02\t87.02\t\n"
     ]
    },
    {
     "name": "stderr",
     "output_type": "stream",
     "text": [
      "/Users/adi/repos/spotify-music-discovery/venv/lib/python3.5/site-packages/sklearn/svm/base.py:931: ConvergenceWarning: Liblinear failed to converge, increase the number of iterations.\n",
      "  \"the number of iterations.\", ConvergenceWarning)\n"
     ]
    },
    {
     "name": "stdout",
     "output_type": "stream",
     "text": [
      "101\n",
      "lsvc accs w/ uncertainty\n",
      "68.88\t68.44\t66.69\t66.69\t84.04\t86.67\t86.41\t87.02\t86.76\t86.76\t87.2\t87.11\t86.67\t86.5\t86.24\t80.36\t80.8\t82.2\t82.29\t82.29\t80.98\t81.85\t81.94\t83.08\t82.9\t82.82\t82.9\t82.64\t83.61\t83.87\t83.78\t83.96\t84.22\t84.22\t84.48\t84.66\t84.48\t84.57\t84.57\t84.92\t85.18\t85.18\t83.34\t84.39\t85.27\t85.45\t85.45\t86.06\t86.94\t87.11\t87.11\t87.2\t87.2\t87.64\t87.55\t87.46\t87.64\t87.73\t87.73\t86.67\t86.85\t86.94\t86.85\t86.67\t87.99\t87.99\t88.08\t88.16\t88.08\t88.08\t87.73\t88.6\t88.43\t88.43\t88.34\t88.34\t88.34\t88.43\t88.43\t88.43\t88.51\t88.51\t88.51\t88.51\t88.51\t88.51\t88.51\t88.78\t88.78\t88.69\t88.16\t88.16\t88.16\t88.16\t88.16\t88.16\t88.16\t88.08\t88.16\t88.08\t88.25\t\n",
      "101\n",
      "sgd accs w/ random\n",
      "65.2\t33.3\t79.31\t66.69\t59.07\t66.78\t66.78\t66.78\t56.35\t56.35\t56.35\t56.35\t66.69\t66.69\t66.69\t66.69\t77.12\t33.3\t33.3\t78.79\t78.79\t37.42\t76.86\t76.86\t35.84\t76.51\t76.51\t76.51\t76.51\t76.51\t76.51\t76.51\t35.49\t35.49\t35.49\t72.56\t68.36\t82.29\t82.29\t69.23\t69.23\t69.23\t69.23\t69.23\t82.29\t82.29\t82.29\t82.29\t82.29\t82.29\t75.98\t63.62\t80.45\t60.12\t81.85\t77.91\t35.49\t35.49\t82.12\t82.12\t82.12\t82.12\t82.12\t82.12\t82.12\t82.12\t82.12\t82.12\t82.12\t82.12\t82.12\t82.12\t82.12\t82.12\t82.12\t82.12\t82.12\t82.47\t58.89\t58.89\t58.89\t58.89\t88.08\t88.08\t45.83\t45.83\t87.73\t67.13\t86.15\t67.04\t67.04\t67.04\t67.04\t88.78\t88.78\t88.78\t88.78\t88.78\t67.3\t88.43\t88.43\t\n",
      "101\n",
      "sgd accs w/ uncertainty\n",
      "66.69\t57.4\t67.3\t67.3\t67.3\t81.59\t81.59\t81.59\t67.65\t67.65\t55.74\t55.74\t55.74\t55.74\t75.98\t75.98\t42.68\t42.68\t42.68\t42.68\t42.68\t78.96\t78.96\t78.96\t78.96\t42.76\t77.65\t77.65\t39.78\t39.78\t85.01\t85.01\t85.01\t43.82\t33.3\t37.33\t37.33\t86.24\t86.24\t86.24\t86.24\t86.24\t86.24\t86.24\t86.24\t40.14\t86.76\t86.76\t86.76\t86.76\t86.76\t86.76\t86.76\t86.76\t86.76\t86.76\t86.76\t86.76\t37.94\t85.88\t85.88\t85.88\t85.88\t85.88\t37.51\t37.51\t84.31\t84.31\t67.65\t67.65\t67.65\t83.78\t83.78\t83.78\t83.78\t83.78\t83.78\t83.78\t83.78\t83.78\t83.78\t68.53\t86.24\t71.95\t71.95\t80.28\t80.28\t80.28\t80.28\t80.28\t80.28\t80.28\t80.28\t80.28\t80.28\t80.28\t42.33\t33.3\t43.73\t85.97\t85.97\t\n"
     ]
    }
   ],
   "source": [
    "print('----\\nUnclustered\\n----')\n",
    "active_unclustered_results = run_active_suite(default_song_data, default_training_data, default_validation_data, SUPPORTED_ALGS, AL_STRATS)"
   ]
  },
  {
   "cell_type": "code",
   "execution_count": 9,
   "metadata": {},
   "outputs": [
    {
     "name": "stdout",
     "output_type": "stream",
     "text": [
      "----\n",
      "Clustered\n",
      "----\n",
      "101\n",
      "svc accs w/ random\n",
      "66.69\t66.69\t66.69\t66.69\t66.69\t66.69\t66.69\t66.69\t66.69\t66.69\t66.69\t66.69\t66.69\t66.69\t66.69\t66.69\t66.69\t66.69\t66.69\t66.69\t66.69\t66.69\t66.69\t66.69\t66.69\t66.69\t66.69\t66.69\t66.69\t66.69\t66.69\t66.69\t66.69\t66.69\t66.69\t66.69\t66.69\t66.69\t66.69\t66.69\t66.69\t66.69\t66.69\t66.69\t66.69\t66.69\t66.69\t66.69\t66.69\t66.69\t66.69\t66.69\t66.69\t66.69\t66.69\t66.69\t66.69\t66.69\t66.69\t66.69\t66.69\t66.69\t66.69\t66.69\t66.69\t66.69\t66.69\t66.69\t66.69\t66.69\t66.69\t66.69\t66.69\t66.69\t66.69\t66.69\t66.69\t66.69\t66.69\t66.69\t66.69\t66.69\t66.69\t66.69\t66.69\t66.69\t66.69\t66.69\t66.69\t66.69\t66.69\t66.69\t66.69\t66.69\t66.69\t66.69\t66.69\t66.69\t66.69\t66.69\t66.69\t\n",
      "101\n",
      "svc accs w/ uncertainty\n",
      "66.69\t66.69\t66.69\t66.69\t66.69\t85.53\t66.69\t80.36\t66.69\t66.69\t66.69\t66.69\t66.69\t66.69\t66.69\t66.69\t66.69\t66.69\t66.69\t66.69\t66.69\t66.69\t66.69\t66.69\t66.69\t66.69\t66.69\t66.69\t66.69\t66.69\t66.69\t66.69\t66.69\t66.69\t66.69\t66.69\t66.69\t66.69\t66.69\t66.69\t66.69\t66.69\t66.69\t66.69\t66.69\t66.69\t66.69\t66.69\t66.69\t66.69\t66.69\t66.69\t66.69\t66.69\t66.69\t66.69\t66.69\t66.69\t66.69\t66.69\t66.69\t66.69\t66.69\t66.69\t66.69\t66.69\t66.69\t66.69\t66.69\t66.69\t66.69\t66.69\t66.69\t66.69\t66.69\t66.69\t66.69\t66.69\t66.69\t66.69\t66.69\t66.69\t66.69\t66.69\t66.69\t66.69\t66.69\t66.69\t66.69\t66.69\t66.69\t66.69\t66.69\t66.69\t66.69\t66.69\t66.69\t66.69\t66.69\t66.69\t66.69\t\n",
      "101\n",
      "lsvc accs w/ random\n",
      "44.52\t70.81\t77.56\t76.77\t76.51\t75.54\t75.1\t75.37\t73.53\t80.45\t80.45\t75.54\t75.72\t80.01\t80.01\t79.92\t79.4\t79.4\t79.4\t77.21\t81.06\t81.06\t80.98\t80.8\t80.54\t80.19\t80.19\t80.8\t80.71\t83.78\t83.87\t83.78\t83.87\t83.87\t85.27\t85.8\t85.8\t85.53\t86.06\t86.24\t86.15\t86.15\t86.06\t85.88\t85.88\t85.88\t85.88\t86.06\t85.97\t85.97\t86.5\t86.67\t86.41\t86.41\t86.32\t86.59\t86.59\t86.67\t86.5\t86.5\t86.5\t86.5\t86.5\t86.5\t86.67\t86.76\t86.76\t86.06\t86.06\t86.06\t86.06\t85.97\t86.15\t86.15\t86.15\t86.15\t86.24\t86.24\t86.24\t85.71\t85.71\t85.71\t85.8\t85.8\t85.88\t85.88\t85.88\t86.5\t86.24\t86.24\t86.24\t86.32\t86.32\t86.41\t86.67\t86.76\t86.59\t87.37\t87.37\t87.29\t87.29\t\n",
      "101\n",
      "lsvc accs w/ uncertainty\n",
      "85.36\t84.13\t86.85\t86.59\t87.99\t87.64\t87.29\t87.02\t87.73\t88.6\t87.9\t87.73\t87.73\t87.46\t87.81\t87.73\t87.73\t87.37\t87.37\t85.36\t85.36\t85.45\t85.88\t85.71\t85.88\t85.88\t86.06\t86.24\t86.24\t86.06\t84.22\t82.64\t82.82\t82.9\t83.43\t83.43\t81.77\t81.94\t81.94\t82.29\t82.38\t82.64\t82.47\t83.08\t82.82\t82.9\t84.39\t84.83\t84.75\t84.48\t84.48\t84.57\t84.66\t85.01\t84.13\t84.22\t84.22\t84.31\t84.31\t84.31\t84.92\t84.57\t84.66\t85.27\t85.36\t85.36\t85.36\t85.36\t85.53\t86.06\t85.88\t86.59\t87.64\t87.81\t87.81\t87.81\t87.46\t87.29\t87.37\t87.46\t87.29\t87.2\t87.29\t87.29\t87.29\t87.37\t87.73\t87.73\t87.73\t87.73\t87.81\t87.99\t87.99\t88.08\t87.99\t87.99\t87.99\t87.46\t87.29\t87.37\t87.2\t\n",
      "101\n",
      "sgd accs w/ random\n",
      "66.69\t66.69\t66.69\t32.25\t32.25\t66.69\t61.7\t61.7\t61.7\t61.7\t33.3\t33.3\t82.73\t33.3\t33.3\t69.23\t33.3\t33.3\t79.75\t79.75\t79.75\t79.75\t66.78\t50.56\t67.92\t67.92\t75.89\t73.18\t82.29\t82.29\t82.29\t33.3\t33.3\t33.3\t77.73\t77.73\t77.73\t73.44\t73.44\t66.69\t82.47\t82.47\t82.47\t82.47\t82.47\t82.47\t82.47\t82.47\t82.47\t82.47\t82.47\t67.3\t67.3\t87.11\t87.11\t48.81\t87.64\t87.64\t87.64\t87.64\t87.64\t87.64\t87.64\t87.64\t87.64\t87.64\t87.64\t87.64\t87.64\t87.64\t87.64\t87.64\t87.64\t87.64\t87.64\t87.64\t87.64\t87.64\t87.64\t87.64\t87.64\t87.64\t87.64\t87.64\t87.64\t87.64\t87.64\t87.64\t87.64\t87.64\t87.64\t87.64\t87.64\t87.64\t87.64\t87.64\t87.64\t87.64\t87.64\t87.64\t87.64\t\n",
      "101\n",
      "sgd accs w/ uncertainty\n",
      "66.95\t66.95\t55.56\t55.56\t67.48\t67.48\t67.48\t67.48\t67.48\t65.38\t68.71\t68.71\t68.71\t68.71\t68.71\t68.71\t68.71\t68.71\t80.98\t80.98\t80.98\t33.3\t33.3\t86.15\t86.15\t33.56\t85.18\t85.18\t85.18\t85.18\t85.18\t85.18\t85.18\t85.18\t85.18\t85.18\t85.18\t33.47\t85.27\t85.27\t85.27\t85.27\t85.27\t85.27\t85.27\t85.27\t85.27\t85.27\t85.27\t85.27\t33.39\t85.62\t34.0\t34.0\t84.48\t84.48\t84.48\t84.48\t84.48\t36.8\t80.19\t80.19\t80.19\t80.19\t80.19\t35.67\t35.67\t35.67\t35.67\t85.18\t67.04\t67.04\t67.04\t67.04\t67.04\t79.84\t41.63\t81.85\t35.93\t74.49\t74.49\t35.58\t80.45\t80.45\t68.71\t68.71\t68.71\t83.08\t83.08\t83.08\t42.15\t83.78\t83.78\t83.78\t83.78\t83.78\t83.78\t83.78\t83.78\t83.78\t83.78\t\n"
     ]
    }
   ],
   "source": [
    "print('----\\nClustered\\n----')\n",
    "active_clustered_results = run_active_suite(default_song_data, clustered_training_data, clustered_validation_data, SUPPORTED_ALGS, AL_STRATS)"
   ]
  },
  {
   "cell_type": "code",
   "execution_count": 10,
   "metadata": {},
   "outputs": [
    {
     "name": "stdout",
     "output_type": "stream",
     "text": [
      "\n",
      "----\n",
      "Clustered w/ Cluster Sampling\n",
      "----\n",
      "sgd accs w/ random\n",
      "87.29\t52.84\t66.78\t66.78\t66.78\t33.3\t72.21\t72.21\t72.21\t84.31\t84.31\t66.69\t51.97\t60.73\t58.89\t80.45\t76.77\t79.57\t79.57\t72.48\t79.4\t79.4\t81.85\t68.71\t82.03\t81.06\t\n",
      "sgd accs w/ uncertainty\n",
      "54.6\t76.24\t76.33\t40.84\t86.67\t86.67\t86.67\t50.56\t85.62\t85.62\t66.69\t83.96\t58.45\t58.45\t87.11\t87.11\t87.11\t87.11\t87.11\t87.11\t86.76\t86.76\t65.11\t65.11\t85.88\t85.88\t\n"
     ]
    }
   ],
   "source": [
    "print('\\n----\\nClustered w/ Cluster Sampling\\n----')\n",
    "active_cluster_sampled_results = run_clusters_suite(default_song_data, clustered_training_data, clustered_validation_data, training_clusters)"
   ]
  },
  {
   "cell_type": "code",
   "execution_count": 11,
   "metadata": {
    "scrolled": false
   },
   "outputs": [
    {
     "name": "stdout",
     "output_type": "stream",
     "text": [
      "svc accs:\t0.6669588080631026\t0.6669588080631026\n",
      "lsvc accs:\t0.9290096406660824\t0.9290096406660824\n"
     ]
    },
    {
     "name": "stderr",
     "output_type": "stream",
     "text": [
      "/Users/adi/repos/spotify-music-discovery/venv/lib/python3.5/site-packages/sklearn/linear_model/stochastic_gradient.py:166: FutureWarning: max_iter and tol parameters have been added in SGDClassifier in 0.19. If both are left unset, they default to max_iter=5 and tol=None. If tol is not None, max_iter defaults to max_iter=1000. From 0.21, default max_iter will be 1000, and default tol will be 1e-3.\n",
      "  FutureWarning)\n"
     ]
    },
    {
     "name": "stdout",
     "output_type": "stream",
     "text": [
      "sgd accs:\t0.8711656441717791\t0.9281332164767747\n"
     ]
    }
   ],
   "source": [
    "run_benchmarks_suite(\n",
    "    default_song_data,\n",
    "    default_training_data,\n",
    "    default_validation_data,\n",
    "    clustered_training_data,\n",
    "    clustered_validation_data\n",
    ")"
   ]
  },
  {
   "cell_type": "code",
   "execution_count": 12,
   "metadata": {
    "scrolled": true
   },
   "outputs": [],
   "source": [
    "# print(active_unclustered_results.keys())\n",
    "# print(active_clustered_results.keys())\n",
    "# print(active_cluster_sampled_results.keys())"
   ]
  },
  {
   "cell_type": "code",
   "execution_count": 13,
   "metadata": {},
   "outputs": [],
   "source": [
    "result_list = [active_unclustered_results, active_clustered_results]\n",
    "label_list = ['Unclustered', 'Clustered']\n",
    "\n",
    "# svc_results = get_new_results('svc', result_list, label_list)\n",
    "# lsvc_results = get_new_results('lsvc', result_list, label_list)\n",
    "# sgd_results = get_new_results('sgd', result_list, label_list)"
   ]
  },
  {
   "cell_type": "code",
   "execution_count": 14,
   "metadata": {},
   "outputs": [],
   "source": [
    "# # def get_plottable_results(data):\n",
    "# #     y, labels = [], []\n",
    "# #     #print(svc_results.keys())\n",
    "# #     for k in data:\n",
    "# #         #print(svc_results[k].keys())\n",
    "# #         for l in data[k]:\n",
    "# #             #print(type(svc_results[k][l]))\n",
    "# #             y.append(data[k][l])\n",
    "# #             labels.append(k + ' ' + (' Random' if l == 'random' else ' Uncertainty'))\n",
    "# #     return y, labels\n",
    "\n",
    "# svc_y, svc_l = get_plottable_results(svc_results)\n",
    "# lsvc_y, lsvc_l = get_plottable_results(lsvc_results)\n",
    "# sgd_y, sgd_l = get_plottable_results(sgd_results)\n",
    "\n",
    "# svc_y_r, svc_l_r = svc_y[::2], svc_l[::2]\n",
    "# svc_y_u, svc_l_u = svc_y[1::2], svc_l[1::2]\n",
    "# # lsvc_y_r, lsvc_l_r = lsvc_y[::2], lsvc_l[::2]\n",
    "# # lsvc_y_u, lsvc_l_u = lsvc_y[1::2], lsvc_l[1::2]\n",
    "# sgd_y_r, sgd_l_r = sgd_y[::2], sgd_l[::2]\n",
    "# sgd_y_u, sgd_l_u = sgd_y[1::2], sgd_l[1::2]"
   ]
  },
  {
   "cell_type": "code",
   "execution_count": 15,
   "metadata": {},
   "outputs": [],
   "source": [
    "# import matplotlib.pyplot as plt\n",
    "# import matplotlib.ticker as mtick\n",
    "\n",
    "# def accuracy_plot(y, labels, title, benchmark, save=False):\n",
    "    \n",
    "#     x = [i + 5 for i in range(len(y[0]))]\n",
    " \n",
    "#     for i in range(len(y)):\n",
    "#         plt.plot(x, y[i], '--' if i % 2 == 0 else '-', label=labels[i])\n",
    "#     plt.plot(x, [benchmark for i in range(len(y[0]))], '-', label='Benchmark', color='black')\n",
    "#     plt.legend()\n",
    "#     plt.title(title)\n",
    "#     plt.xlabel('# Training Instances')\n",
    "#     plt.ylabel('Accuracy')\n",
    "#     plt.axis([5, 5+len(y[0]), 0, 1.0])\n",
    "#     plt.axes().yaxis.set_major_formatter(mtick.PercentFormatter(1.0))\n",
    "#     if save: plt.savefig('plots/' + str(NUM_CLUSTERS) + '_' + title.replace(' ', '_') + '.png')\n",
    "#     plt.show()\n",
    "\n",
    "# accuracy_plot(svc_y_r, svc_l_r, 'SVC Random', svc_bench_acc)\n",
    "# accuracy_plot(svc_y_u, svc_l_u, 'SVC Uncertainty', svc_bench_acc)\n",
    "# accuracy_plot(lsvc_y, lsvc_l, 'LinearSVC', lsvc_bench_acc)\n",
    "# accuracy_plot(sgd_y_r, sgd_l_r, 'SGD Random', sgd_bench_acc)\n",
    "# accuracy_plot(sgd_y_u, sgd_l_u, 'SGD Uncertainty', sgd_bench_acc)\n",
    "\n",
    "# # def get_accuracy_plots():\n",
    "# #     for alg in SUPPORTED_ALGS:\n",
    "# #         accuracy_plot(basic_results[i][:2], basic_titles[i])\n",
    "        \n",
    "# # get_accuracy_plots()\n"
   ]
  },
  {
   "cell_type": "code",
   "execution_count": 16,
   "metadata": {},
   "outputs": [],
   "source": [
    "# result_list = [active_cluster_sampled_results]\n",
    "# label_list = ['Clustered']\n",
    "# sgd_c_results = get_new_results('sgd')\n",
    "# sgd_c_y, sgd_c_l = get_plottable_results(sgd_c_results)\n",
    "\n",
    "# # def accuracy_plot_c(y, labels, title, benchmark, save=False):\n",
    "    \n",
    "# #     # x = [i * (50//NUM_CLUSTERS) + 5 for i in range(len(y[0]))]\n",
    "# #     # x = [i * (50//4) + 5 for i in range(len(y[0]))]\n",
    "# #     x = [i + 5 for i in range(len(y[0]))]\n",
    " \n",
    "# #     for i in range(len(y)):\n",
    "# #         plt.plot(x, y[i], '--' if i % 2 == 0 else '-', label=labels[i])\n",
    "# #     plt.plot(x, [benchmark for i in range(len(y[0]))], '-', label='Benchmark', color='black')\n",
    "# #     plt.legend()\n",
    "# #     plt.title(title)\n",
    "# #     plt.xlabel('# Training Instances')\n",
    "# #     plt.ylabel('Accuracy')\n",
    "# #     plt.axis([5, 5+len(y[0]), 0, 1.0])\n",
    "# #     plt.axes().yaxis.set_major_formatter(mtick.PercentFormatter(1.0))\n",
    "# #     if save: plt.savefig('plots/' + str(NUM_CLUSTERS) + '_' + title.replace(' ', '_') + '.png')\n",
    "# #     plt.show()\n",
    "\n",
    "# accuracy_plot_c(sgd_c_y, sgd_c_l, 'SGD Cluster Sampling', sgd_bench_acc)"
   ]
  },
  {
   "cell_type": "code",
   "execution_count": 17,
   "metadata": {},
   "outputs": [],
   "source": [
    "# TODO\n",
    "# Add benchmark accuracy to all plots\n",
    "# Try some more cluster numbers\n",
    "# write report"
   ]
  },
  {
   "cell_type": "code",
   "execution_count": null,
   "metadata": {},
   "outputs": [],
   "source": []
  }
 ],
 "metadata": {
  "kernelspec": {
   "display_name": "Python 3",
   "language": "python",
   "name": "python3"
  },
  "language_info": {
   "codemirror_mode": {
    "name": "ipython",
    "version": 3
   },
   "file_extension": ".py",
   "mimetype": "text/x-python",
   "name": "python",
   "nbconvert_exporter": "python",
   "pygments_lexer": "ipython3",
   "version": "3.5.3"
  }
 },
 "nbformat": 4,
 "nbformat_minor": 2
}
