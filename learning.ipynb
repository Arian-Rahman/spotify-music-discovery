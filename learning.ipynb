{
 "cells": [
  {
   "cell_type": "markdown",
   "metadata": {},
   "source": [
    "This is where the metadata, feature space, and genres are read in and stored in the \"songs\" dictionary by `track_id`."
   ]
  },
  {
   "cell_type": "code",
   "execution_count": 1,
   "metadata": {},
   "outputs": [],
   "source": [
    "from pkg.spotifyclassifier import *\n",
    "from pkg.graphs import *\n",
    "from pkg.run import *\n",
    "from pkg.wrangling import *\n",
    "from pkg.constants import LABEL_LIST"
   ]
  },
  {
   "cell_type": "code",
   "execution_count": 2,
   "metadata": {},
   "outputs": [
    {
     "data": {
      "application/vnd.jupyter.widget-view+json": {
       "model_id": "3251faf759204113a45cb52fcb6309f7",
       "version_major": 2,
       "version_minor": 0
      },
      "text/plain": [
       "HBox(children=(IntProgress(value=1, bar_style='info', description='Reading data from .csv...', max=1, style=Pr…"
      ]
     },
     "metadata": {},
     "output_type": "display_data"
    },
    {
     "name": "stdout",
     "output_type": "stream",
     "text": [
      "\n",
      "Song data reading complete.\n"
     ]
    }
   ],
   "source": [
    "default_song_data = FrozenMap(read_data('data/data.csv'))\n",
    "print('Song data reading complete.')\n"
   ]
  },
  {
   "cell_type": "code",
   "execution_count": 3,
   "metadata": {},
   "outputs": [
    {
     "data": {
      "application/vnd.jupyter.widget-view+json": {
       "model_id": "bfc6d1ae09574e3699628f44512c3b88",
       "version_major": 2,
       "version_minor": 0
      },
      "text/plain": [
       "HBox(children=(IntProgress(value=1, bar_style='info', description='Reading data from .csv...', max=1, style=Pr…"
      ]
     },
     "metadata": {},
     "output_type": "display_data"
    },
    {
     "name": "stdout",
     "output_type": "stream",
     "text": [
      "\n",
      "Genre data reading complete.\n"
     ]
    }
   ],
   "source": [
    "genres = FrozenMap(read_genres('data/data.csv'))\n",
    "print('Genre data reading complete.')\n"
   ]
  },
  {
   "cell_type": "code",
   "execution_count": 4,
   "metadata": {},
   "outputs": [],
   "source": [
    "default_feature_names = tuple(next(iter(default_song_data.values()))['features'].keys())"
   ]
  },
  {
   "cell_type": "code",
   "execution_count": 5,
   "metadata": {},
   "outputs": [
    {
     "name": "stdout",
     "output_type": "stream",
     "text": [
      " likes: 1919 \n",
      " dislikes: 3789\n"
     ]
    }
   ],
   "source": [
    "# Sanity check\n",
    "l, dl = 0, 0\n",
    "for x in default_song_data.values():\n",
    "    if x['label'] == 1: l += 1\n",
    "    else: dl += 1\n",
    "print(' likes:', l, '\\n', 'dislikes:', dl)"
   ]
  },
  {
   "cell_type": "code",
   "execution_count": 6,
   "metadata": {},
   "outputs": [
    {
     "name": "stdout",
     "output_type": "stream",
     "text": [
      "2 2.2661993529803264e+16\n",
      "3 1.0041686491846414e+16\n",
      "4 3971861645771495.0\n",
      "5 2864263083762424.5\n",
      "6 2699856261343651.5\n",
      "7 2129213427017124.0\n",
      "8 1638328399972220.0\n",
      "9 1538355294667852.5\n",
      "10 1502268468566126.0\n"
     ]
    }
   ],
   "source": [
    "test_cluster_size(default_song_data, 10)"
   ]
  },
  {
   "cell_type": "code",
   "execution_count": 7,
   "metadata": {},
   "outputs": [],
   "source": [
    "clustered_song_data, songs_by_cluster = {}, {}\n",
    "clustered_song_data, songs_by_cluster = get_kmeans_clusters(default_song_data, NUM_CLUSTERS)"
   ]
  },
  {
   "cell_type": "code",
   "execution_count": 8,
   "metadata": {},
   "outputs": [],
   "source": [
    "if set(next(iter(default_song_data.values()))['features'].keys()) == set(next(iter(clustered_song_data.values()))['features'].keys()):\n",
    "    raise ValueError('Default features messed up.')"
   ]
  },
  {
   "cell_type": "code",
   "execution_count": 9,
   "metadata": {},
   "outputs": [],
   "source": [
    "default_training_data, default_validation_data, clustered_training_data, clustered_validation_data = get_experiment_split(default_song_data, clustered_song_data)\n",
    "training_clusters = get_train_clusters(clustered_training_data, songs_by_cluster[NUM_CLUSTERS])"
   ]
  },
  {
   "cell_type": "code",
   "execution_count": 10,
   "metadata": {},
   "outputs": [
    {
     "name": "stdout",
     "output_type": "stream",
     "text": [
      "----\n",
      "Unclustered\n",
      "----\n",
      "101\n",
      "svc accs w/ random\n",
      "32.6\t32.6\t32.6\t32.6\t67.39\t67.39\t67.39\t67.39\t67.39\t67.39\t67.39\t67.39\t67.39\t67.39\t67.39\t67.39\t67.39\t67.39\t67.39\t67.39\t67.39\t67.39\t67.39\t67.39\t67.39\t67.39\t67.39\t67.39\t67.39\t67.39\t67.39\t67.39\t67.39\t67.39\t67.39\t67.39\t67.39\t67.39\t67.39\t67.39\t67.39\t67.39\t67.39\t67.39\t67.39\t67.39\t67.39\t67.39\t67.39\t67.39\t67.39\t67.39\t67.39\t67.39\t67.39\t67.39\t67.39\t67.39\t67.39\t67.39\t67.39\t67.39\t67.39\t67.39\t67.39\t67.39\t67.39\t67.39\t67.39\t67.39\t67.39\t67.39\t67.39\t67.39\t67.39\t67.39\t67.39\t67.39\t67.39\t67.39\t67.39\t67.39\t67.39\t67.39\t67.39\t67.39\t67.39\t67.39\t67.39\t67.39\t67.39\t67.39\t67.39\t67.39\t67.39\t67.39\t67.39\t67.39\t67.39\t67.39\t67.39\t\n",
      "101\n",
      "svc accs w/ uncertainty\n",
      "67.39\t32.69\t67.39\t67.39\t67.39\t67.39\t67.39\t67.39\t67.39\t32.69\t67.39\t67.39\t67.39\t67.39\t67.39\t67.39\t67.39\t67.39\t67.39\t67.39\t67.39\t67.39\t67.39\t67.39\t67.39\t67.39\t67.39\t67.39\t67.39\t67.39\t67.39\t67.39\t67.39\t67.39\t67.39\t67.39\t67.39\t67.39\t67.39\t67.39\t67.39\t67.39\t67.39\t67.48\t67.48\t67.48\t67.48\t67.48\t67.48\t67.48\t67.48\t67.48\t67.48\t67.48\t67.48\t67.48\t67.48\t67.48\t67.48\t67.48\t67.48\t67.48\t67.48\t67.48\t67.48\t67.48\t67.48\t67.48\t67.48\t67.48\t67.48\t67.48\t67.48\t67.48\t67.48\t67.48\t67.48\t67.48\t67.48\t67.57\t67.57\t67.57\t67.57\t67.57\t67.57\t67.57\t67.57\t67.57\t67.57\t67.57\t67.57\t67.57\t67.57\t67.57\t67.57\t67.57\t67.57\t67.57\t67.57\t67.57\t67.57\t\n"
     ]
    },
    {
     "name": "stderr",
     "output_type": "stream",
     "text": [
      "/Users/adi/repos/spotify-music-discovery/venv/lib/python3.5/site-packages/sklearn/svm/base.py:931: ConvergenceWarning: Liblinear failed to converge, increase the number of iterations.\n",
      "  \"the number of iterations.\", ConvergenceWarning)\n"
     ]
    },
    {
     "name": "stdout",
     "output_type": "stream",
     "text": [
      "101\n",
      "lsvc accs w/ random\n",
      "67.04\t66.95\t66.08\t66.95\t60.12\t50.74\t67.39\t66.43\t67.39\t37.51\t39.26\t32.6\t67.39\t45.22\t61.43\t67.39\t67.39\t67.39\t32.6\t67.39\t45.31\t67.39\t46.27\t40.31\t52.67\t33.39\t47.15\t67.39\t32.6\t45.57\t32.6\t67.39\t32.6\t32.6\t32.6\t58.63\t67.39\t66.78\t46.36\t67.39\t64.94\t67.39\t33.04\t32.6\t67.39\t65.81\t67.39\t45.66\t32.6\t61.43\t54.86\t59.59\t67.39\t32.6\t60.21\t64.32\t32.6\t45.13\t32.6\t37.24\t67.39\t67.39\t56.44\t67.39\t32.6\t67.39\t32.6\t54.95\t50.21\t32.77\t59.5\t32.6\t65.29\t59.33\t67.39\t64.76\t67.39\t67.39\t67.39\t41.01\t67.39\t46.71\t67.39\t67.39\t59.5\t67.39\t46.53\t67.39\t59.15\t67.39\t65.46\t32.6\t61.61\t55.3\t33.04\t59.85\t54.16\t40.92\t61.08\t40.75\t32.6\t\n",
      "101\n",
      "lsvc accs w/ uncertainty\n",
      "45.92\t45.92\t45.92\t43.03\t32.6\t67.39\t67.39\t67.39\t38.47\t32.6\t67.39\t37.33\t67.39\t65.46\t43.38\t54.33\t55.65\t32.6\t67.39\t55.3\t64.76\t32.6\t67.39\t67.39\t32.6\t32.6\t56.79\t59.77\t60.47\t32.6\t51.44\t60.73\t67.39\t67.39\t32.6\t45.66\t52.05\t45.39\t50.74\t54.25\t56.96\t36.28\t67.39\t65.29\t67.39\t32.6\t39.17\t44.69\t67.39\t67.39\t67.39\t64.94\t67.39\t53.72\t32.6\t61.08\t59.59\t67.39\t67.39\t58.54\t61.7\t67.39\t67.39\t67.39\t66.25\t61.17\t43.73\t67.39\t41.89\t47.06\t35.58\t32.6\t67.39\t67.39\t67.39\t60.21\t40.49\t67.39\t53.72\t32.6\t32.6\t67.39\t67.39\t55.21\t55.74\t67.39\t67.39\t67.39\t67.39\t61.34\t61.08\t67.39\t67.39\t45.92\t67.39\t67.39\t57.58\t63.19\t67.39\t67.39\t47.94\t\n",
      "101\n",
      "sgd accs w/ random\n",
      "66.87\t66.87\t66.87\t66.87\t32.6\t32.6\t32.6\t67.39\t67.3\t67.3\t66.52\t66.52\t66.52\t66.52\t66.52\t67.39\t67.39\t67.22\t67.22\t66.6\t66.6\t67.3\t67.3\t67.3\t67.3\t67.3\t66.78\t67.39\t67.39\t67.39\t64.85\t64.85\t32.6\t32.6\t32.6\t32.6\t32.6\t33.82\t33.82\t33.82\t37.16\t32.6\t32.6\t32.6\t67.39\t67.39\t67.39\t53.02\t53.02\t53.02\t65.29\t65.29\t65.29\t65.29\t67.39\t60.73\t67.39\t67.39\t67.39\t32.6\t37.42\t32.6\t32.6\t32.6\t32.6\t33.74\t67.39\t67.39\t67.39\t67.39\t67.39\t67.39\t67.39\t66.87\t66.87\t66.87\t66.87\t66.87\t66.87\t66.69\t66.69\t67.13\t66.87\t66.69\t66.69\t66.69\t66.69\t66.69\t67.22\t67.04\t67.04\t67.04\t67.22\t67.22\t66.95\t67.39\t67.39\t65.55\t65.55\t65.55\t65.55\t\n",
      "101\n",
      "sgd accs w/ uncertainty\n",
      "32.6\t32.6\t32.6\t65.64\t65.64\t65.64\t65.64\t65.64\t65.64\t65.64\t65.64\t65.64\t67.39\t67.39\t61.43\t61.43\t67.04\t67.04\t67.04\t67.39\t64.94\t64.94\t64.94\t64.94\t59.59\t67.3\t67.39\t67.39\t67.39\t61.17\t67.22\t67.22\t67.39\t67.39\t67.39\t67.39\t67.39\t67.39\t67.39\t62.92\t67.39\t67.39\t67.39\t67.39\t60.21\t67.39\t67.39\t67.39\t67.39\t67.39\t67.39\t67.39\t67.39\t32.6\t32.6\t33.74\t33.74\t33.74\t32.6\t34.7\t32.77\t32.6\t32.6\t33.3\t33.3\t67.39\t67.39\t67.39\t67.39\t66.78\t66.78\t66.78\t66.78\t66.78\t66.78\t66.78\t65.64\t67.39\t67.39\t66.08\t66.08\t66.52\t66.78\t66.78\t67.13\t66.6\t67.39\t66.6\t66.6\t66.6\t66.6\t66.6\t66.6\t66.6\t66.6\t66.95\t66.95\t66.95\t66.95\t66.95\t66.95\t\n"
     ]
    }
   ],
   "source": [
    "print('----\\nUnclustered\\n----')\n",
    "active_unclustered_results = run_active_suite(default_song_data, default_training_data, default_validation_data, SUPPORTED_ALGS, AL_STRATS)"
   ]
  },
  {
   "cell_type": "code",
   "execution_count": 11,
   "metadata": {},
   "outputs": [
    {
     "name": "stdout",
     "output_type": "stream",
     "text": [
      "----\n",
      "Clustered\n",
      "----\n",
      "101\n",
      "svc accs w/ random\n",
      "67.39\t67.39\t67.39\t67.39\t67.39\t67.39\t67.39\t67.39\t67.39\t67.39\t67.39\t67.39\t67.39\t67.39\t67.39\t67.39\t67.39\t67.39\t67.39\t67.39\t67.39\t67.39\t67.39\t67.39\t67.39\t67.39\t67.39\t67.39\t67.39\t67.39\t67.39\t67.39\t67.39\t67.39\t67.39\t67.39\t67.39\t67.39\t67.39\t67.39\t67.39\t67.39\t67.39\t67.39\t67.39\t67.39\t67.39\t67.39\t67.39\t67.39\t67.39\t67.39\t67.39\t67.39\t67.39\t67.39\t67.39\t67.39\t67.39\t67.39\t67.39\t67.39\t67.39\t67.39\t67.39\t67.39\t67.39\t67.39\t67.39\t67.39\t67.39\t67.39\t67.39\t67.39\t67.39\t67.39\t67.39\t67.39\t67.39\t67.39\t67.39\t67.39\t67.39\t67.39\t67.39\t67.39\t67.39\t67.39\t67.39\t67.39\t67.39\t67.39\t67.39\t67.39\t67.39\t67.39\t67.39\t67.39\t67.39\t67.39\t67.39\t\n",
      "101\n",
      "svc accs w/ uncertainty\n",
      "67.39\t67.39\t67.39\t67.39\t67.39\t67.39\t67.39\t67.39\t67.39\t67.39\t67.39\t67.39\t67.39\t67.39\t67.39\t67.39\t67.39\t67.39\t67.39\t67.39\t67.39\t67.39\t67.39\t67.39\t67.39\t67.39\t67.39\t67.39\t67.39\t67.39\t67.39\t67.39\t67.39\t67.39\t67.39\t67.39\t67.39\t67.39\t67.39\t67.39\t67.39\t67.39\t67.39\t67.39\t67.39\t67.39\t67.39\t67.39\t67.39\t67.39\t67.39\t67.39\t67.39\t67.39\t67.39\t67.39\t67.39\t67.39\t67.39\t67.39\t67.39\t67.39\t67.39\t67.39\t67.39\t67.39\t67.39\t67.39\t67.39\t67.39\t67.39\t67.39\t67.39\t67.39\t67.39\t67.39\t67.39\t67.39\t67.39\t67.39\t67.39\t67.39\t67.39\t67.39\t67.39\t67.39\t67.39\t67.39\t67.39\t67.39\t67.39\t67.39\t67.48\t67.48\t67.48\t67.48\t67.48\t67.48\t67.48\t67.48\t67.48\t\n",
      "101\n",
      "lsvc accs w/ random\n",
      "64.68\t64.68\t63.97\t67.04\t66.6\t67.39\t64.94\t52.14\t67.39\t66.87\t67.39\t65.03\t63.71\t61.34\t61.34\t64.94\t67.39\t67.39\t65.03\t67.39\t67.39\t64.94\t67.39\t61.96\t67.39\t44.69\t67.39\t67.39\t65.11\t59.68\t67.39\t32.6\t51.97\t67.39\t62.66\t59.85\t67.39\t59.94\t58.8\t47.23\t58.1\t62.57\t32.6\t42.68\t67.39\t32.6\t35.05\t67.39\t67.39\t66.17\t67.39\t32.6\t59.07\t49.86\t40.22\t67.39\t67.39\t32.6\t62.66\t32.6\t64.94\t67.39\t67.39\t67.39\t51.44\t67.39\t67.39\t67.39\t67.39\t67.39\t32.6\t46.97\t49.16\t47.06\t67.39\t67.39\t67.48\t32.6\t59.33\t55.74\t59.59\t53.02\t50.74\t67.39\t61.17\t67.39\t67.39\t47.06\t65.29\t32.6\t67.39\t67.39\t67.22\t51.79\t48.81\t53.81\t67.39\t67.39\t35.67\t67.39\t57.49\t\n",
      "101\n",
      "lsvc accs w/ uncertainty\n",
      "32.6\t33.74\t43.29\t67.39\t32.6\t32.6\t67.39\t32.6\t59.59\t43.99\t32.6\t56.7\t55.3\t37.77\t60.21\t67.39\t32.6\t32.6\t56.61\t67.39\t32.6\t66.87\t66.25\t33.21\t67.39\t32.6\t56.35\t40.92\t44.69\t67.39\t59.59\t67.39\t67.39\t46.09\t34.7\t32.6\t67.39\t36.37\t67.39\t67.39\t32.6\t40.49\t67.39\t67.48\t32.6\t32.6\t67.39\t67.39\t32.6\t67.39\t36.02\t67.39\t32.6\t48.02\t60.12\t67.39\t67.39\t56.61\t57.31\t44.87\t45.74\t67.39\t63.54\t39.52\t47.06\t54.68\t67.39\t55.3\t55.65\t67.39\t32.6\t54.6\t63.01\t43.64\t52.93\t54.51\t57.49\t32.6\t32.6\t67.39\t45.48\t32.6\t67.39\t67.39\t41.45\t43.12\t32.6\t45.92\t67.39\t32.6\t32.6\t67.39\t52.84\t66.78\t47.76\t66.78\t60.03\t67.39\t67.39\t50.48\t32.6\t\n",
      "101\n",
      "sgd accs w/ random\n",
      "39.17\t67.39\t67.39\t66.25\t66.25\t66.25\t67.39\t67.39\t66.87\t66.95\t66.95\t66.95\t66.95\t66.95\t66.95\t66.95\t66.95\t66.95\t66.95\t66.95\t67.39\t67.39\t67.39\t67.39\t67.39\t67.39\t67.39\t67.39\t67.39\t67.39\t67.39\t67.39\t67.39\t67.39\t67.39\t67.39\t67.39\t67.39\t67.39\t67.39\t67.39\t67.39\t67.39\t67.39\t67.39\t67.39\t67.39\t66.6\t66.6\t66.6\t66.95\t66.95\t66.95\t65.9\t65.9\t67.39\t67.39\t67.39\t67.39\t67.39\t67.39\t67.39\t67.39\t66.87\t66.87\t66.95\t67.39\t66.6\t66.6\t66.6\t66.6\t67.39\t67.39\t67.39\t66.87\t66.87\t66.87\t66.87\t67.39\t66.78\t64.59\t64.59\t64.59\t64.59\t64.85\t64.85\t64.85\t65.29\t65.29\t66.87\t66.87\t66.87\t66.87\t67.39\t67.39\t66.6\t66.6\t66.6\t66.6\t66.6\t67.39\t\n",
      "101\n",
      "sgd accs w/ uncertainty\n",
      "67.39\t67.39\t67.39\t67.39\t57.4\t66.95\t67.39\t32.77\t67.39\t67.39\t67.39\t67.39\t67.39\t67.39\t67.39\t67.39\t67.39\t61.43\t61.43\t61.43\t61.43\t64.85\t64.85\t65.38\t65.38\t61.08\t64.94\t65.9\t65.9\t67.39\t67.39\t67.39\t67.39\t67.39\t67.39\t67.39\t67.39\t67.39\t67.39\t67.39\t67.39\t59.59\t59.59\t32.6\t66.08\t66.08\t66.08\t66.08\t66.78\t66.78\t67.13\t65.99\t65.99\t67.22\t67.39\t67.39\t67.39\t67.39\t67.39\t67.39\t67.39\t67.39\t67.39\t67.39\t67.39\t67.39\t67.39\t67.39\t67.39\t67.39\t67.39\t67.39\t67.39\t67.39\t67.39\t66.78\t67.22\t67.22\t66.08\t66.08\t66.08\t66.08\t65.29\t65.29\t67.39\t67.39\t66.87\t66.87\t67.04\t66.43\t67.04\t67.04\t66.17\t65.55\t66.17\t66.17\t65.64\t65.64\t67.39\t66.6\t66.6\t\n"
     ]
    }
   ],
   "source": [
    "print('----\\nClustered\\n----')\n",
    "active_clustered_results = run_active_suite(default_song_data, clustered_training_data, clustered_validation_data, SUPPORTED_ALGS, AL_STRATS)"
   ]
  },
  {
   "cell_type": "code",
   "execution_count": 12,
   "metadata": {},
   "outputs": [
    {
     "name": "stdout",
     "output_type": "stream",
     "text": [
      "\n",
      "----\n",
      "Clustered w/ Cluster Sampling\n",
      "----\n",
      "sgd accs w/ random\n",
      "66.87\t66.87\t66.78\t67.04\t67.39\t67.39\t67.39\t62.31\t62.31\t62.31\t64.94\t61.08\t64.94\t62.75\t67.39\t67.39\t67.39\t67.39\t64.94\t64.94\t64.94\t67.22\t67.22\t67.39\t67.39\t65.55\t\n",
      "sgd accs w/ uncertainty\n",
      "34.53\t33.21\t67.39\t67.39\t66.6\t67.39\t67.39\t65.99\t66.08\t66.34\t67.39\t67.39\t67.39\t66.69\t66.87\t66.95\t67.39\t67.39\t67.39\t66.17\t65.55\t65.38\t66.25\t66.25\t66.6\t65.55\t\n"
     ]
    }
   ],
   "source": [
    "print('\\n----\\nClustered w/ Cluster Sampling\\n----')\n",
    "active_cluster_sampled_results = run_clusters_suite(default_song_data, clustered_training_data, clustered_validation_data, training_clusters)"
   ]
  },
  {
   "cell_type": "code",
   "execution_count": 13,
   "metadata": {
    "scrolled": false
   },
   "outputs": [
    {
     "name": "stdout",
     "output_type": "stream",
     "text": [
      "svc accs:\t0.6783523225241017\t0.6783523225241017\n",
      "lsvc accs:\t0.6739702015775635\t0.6739702015775635\n"
     ]
    },
    {
     "name": "stderr",
     "output_type": "stream",
     "text": [
      "/Users/adi/repos/spotify-music-discovery/venv/lib/python3.5/site-packages/sklearn/linear_model/stochastic_gradient.py:166: FutureWarning: max_iter and tol parameters have been added in SGDClassifier in 0.19. If both are left unset, they default to max_iter=5 and tol=None. If tol is not None, max_iter defaults to max_iter=1000. From 0.21, default max_iter will be 1000, and default tol will be 1e-3.\n",
      "  FutureWarning)\n"
     ]
    },
    {
     "name": "stdout",
     "output_type": "stream",
     "text": [
      "sgd accs:\t0.6687116564417178\t0.6722173531989483\n"
     ]
    }
   ],
   "source": [
    "run_benchmarks_suite(\n",
    "    default_song_data,\n",
    "    default_training_data,\n",
    "    default_validation_data,\n",
    "    clustered_training_data,\n",
    "    clustered_validation_data\n",
    ")"
   ]
  },
  {
   "cell_type": "code",
   "execution_count": 15,
   "metadata": {},
   "outputs": [],
   "source": [
    "result_list = [active_unclustered_results, active_clustered_results]\n",
    "\n",
    "svc_results = get_new_results('svc', result_list, LABEL_LIST)\n",
    "lsvc_results = get_new_results('lsvc', result_list, LABEL_LIST)\n",
    "sgd_results = get_new_results('sgd', result_list, LABEL_LIST)"
   ]
  },
  {
   "cell_type": "code",
   "execution_count": 16,
   "metadata": {},
   "outputs": [],
   "source": [
    "svc_y, svc_l = get_plottable_results(svc_results)\n",
    "lsvc_y, lsvc_l = get_plottable_results(lsvc_results)\n",
    "sgd_y, sgd_l = get_plottable_results(sgd_results)\n",
    "\n",
    "svc_y_r, svc_l_r = svc_y[::2], svc_l[::2]\n",
    "svc_y_u, svc_l_u = svc_y[1::2], svc_l[1::2]\n",
    "# lsvc_y_r, lsvc_l_r = lsvc_y[::2], lsvc_l[::2]\n",
    "# lsvc_y_u, lsvc_l_u = lsvc_y[1::2], lsvc_l[1::2]\n",
    "sgd_y_r, sgd_l_r = sgd_y[::2], sgd_l[::2]\n",
    "sgd_y_u, sgd_l_u = sgd_y[1::2], sgd_l[1::2]"
   ]
  },
  {
   "cell_type": "code",
   "execution_count": 17,
   "metadata": {},
   "outputs": [],
   "source": [
    "# import matplotlib.pyplot as plt\n",
    "# import matplotlib.ticker as mtick\n",
    "\n",
    "# accuracy_plot(svc_y_r, svc_l_r, 'SVC Random', svc_bench_acc)\n",
    "# accuracy_plot(svc_y_u, svc_l_u, 'SVC Uncertainty', svc_bench_acc)\n",
    "# accuracy_plot(lsvc_y, lsvc_l, 'LinearSVC', lsvc_bench_acc)\n",
    "# accuracy_plot(sgd_y_r, sgd_l_r, 'SGD Random', sgd_bench_acc)\n",
    "# accuracy_plot(sgd_y_u, sgd_l_u, 'SGD Uncertainty', sgd_bench_acc)\n",
    "\n",
    "# # def get_accuracy_plots():\n",
    "# #     for alg in SUPPORTED_ALGS:\n",
    "# #         accuracy_plot(basic_results[i][:2], basic_titles[i])\n",
    "        \n",
    "# # get_accuracy_plots()\n"
   ]
  },
  {
   "cell_type": "code",
   "execution_count": 18,
   "metadata": {},
   "outputs": [],
   "source": [
    "# result_list = [active_cluster_sampled_results]\n",
    "# label_list = ['Clustered']\n",
    "# sgd_c_results = get_new_results('sgd')\n",
    "# sgd_c_y, sgd_c_l = get_plottable_results(sgd_c_results)\n",
    "\n",
    "# # def accuracy_plot_c(y, labels, title, benchmark, save=False):\n",
    "    \n",
    "# #     # x = [i * (50//NUM_CLUSTERS) + 5 for i in range(len(y[0]))]\n",
    "# #     # x = [i * (50//4) + 5 for i in range(len(y[0]))]\n",
    "# #     x = [i + 5 for i in range(len(y[0]))]\n",
    " \n",
    "# #     for i in range(len(y)):\n",
    "# #         plt.plot(x, y[i], '--' if i % 2 == 0 else '-', label=labels[i])\n",
    "# #     plt.plot(x, [benchmark for i in range(len(y[0]))], '-', label='Benchmark', color='black')\n",
    "# #     plt.legend()\n",
    "# #     plt.title(title)\n",
    "# #     plt.xlabel('# Training Instances')\n",
    "# #     plt.ylabel('Accuracy')\n",
    "# #     plt.axis([5, 5+len(y[0]), 0, 1.0])\n",
    "# #     plt.axes().yaxis.set_major_formatter(mtick.PercentFormatter(1.0))\n",
    "# #     if save: plt.savefig('plots/' + str(NUM_CLUSTERS) + '_' + title.replace(' ', '_') + '.png')\n",
    "# #     plt.show()\n",
    "\n",
    "# accuracy_plot_c(sgd_c_y, sgd_c_l, 'SGD Cluster Sampling', sgd_bench_acc)"
   ]
  }
 ],
 "metadata": {
  "kernelspec": {
   "display_name": "Python 3",
   "language": "python",
   "name": "python3"
  },
  "language_info": {
   "codemirror_mode": {
    "name": "ipython",
    "version": 3
   },
   "file_extension": ".py",
   "mimetype": "text/x-python",
   "name": "python",
   "nbconvert_exporter": "python",
   "pygments_lexer": "ipython3",
   "version": "3.5.3"
  }
 },
 "nbformat": 4,
 "nbformat_minor": 2
}
